{
 "cells": [
  {
   "cell_type": "code",
   "execution_count": 6,
   "metadata": {
    "collapsed": true
   },
   "outputs": [],
   "source": [
    "import pandas as pd\n",
    "import matplotlib.pyplot as plt\n",
    "%matplotlib inline\n",
    "import copy\n",
    "import re"
   ]
  },
  {
   "cell_type": "markdown",
   "metadata": {},
   "source": [
    "## Find phrase counts for 'climate change', 'global warming', and 'greenhouse gases'"
   ]
  },
  {
   "cell_type": "code",
   "execution_count": 3,
   "metadata": {
    "collapsed": false
   },
   "outputs": [],
   "source": [
    "articles = pd.read_csv('/Users/meghajain/Desktop/all_articles.csv', index_col=0)"
   ]
  },
  {
   "cell_type": "code",
   "execution_count": 157,
   "metadata": {
    "collapsed": false
   },
   "outputs": [
    {
     "data": {
      "text/plain": [
       "Index(['Date', 'Source', 'Body', 'Event Type'], dtype='object')"
      ]
     },
     "execution_count": 157,
     "metadata": {},
     "output_type": "execute_result"
    }
   ],
   "source": [
    "articles.columns"
   ]
  },
  {
   "cell_type": "markdown",
   "metadata": {},
   "source": [
    "#### Pre-processing: removing missing values, cleaning date, finding counts of the phrases"
   ]
  },
  {
   "cell_type": "code",
   "execution_count": 8,
   "metadata": {
    "collapsed": false
   },
   "outputs": [],
   "source": [
    "tampa = re.compile(r'\\s*Tampa Tribune \\(Florida\\)\\s*')\n",
    "articles['Date'] = articles['Date'].apply(lambda x: re.sub(tampa, '', str(x)))"
   ]
  },
  {
   "cell_type": "code",
   "execution_count": 11,
   "metadata": {
    "collapsed": true
   },
   "outputs": [],
   "source": [
    "articles = articles[~((articles['Body'].isnull()) | (articles['Date'].isnull()))]"
   ]
  },
  {
   "cell_type": "code",
   "execution_count": 9,
   "metadata": {
    "collapsed": false
   },
   "outputs": [],
   "source": [
    "articles['Date'] = pd.to_datetime(articles['Date'])"
   ]
  },
  {
   "cell_type": "code",
   "execution_count": 19,
   "metadata": {
    "collapsed": true
   },
   "outputs": [],
   "source": [
    "articles.loc[articles['Event Type'] == 'Flood', 'Event Type'] = 'Flooding'"
   ]
  },
  {
   "cell_type": "code",
   "execution_count": 13,
   "metadata": {
    "collapsed": false
   },
   "outputs": [],
   "source": [
    "climate = re.compile(r'[C|c]limate change')"
   ]
  },
  {
   "cell_type": "code",
   "execution_count": 71,
   "metadata": {
    "collapsed": true
   },
   "outputs": [
    {
     "data": {
      "text/plain": [
       "0    105927\n",
       "1      2271\n",
       "Name: Climate_mention, dtype: int64"
      ]
     },
     "execution_count": 71,
     "metadata": {},
     "output_type": "execute_result"
    }
   ],
   "source": [
    "articles[\"Climate_mention\"] = articles['Body'].apply(lambda x: 1 if len(re.findall(climate, str(x))) > 0 else 0)\n",
    "articles[\"Climate_mention\"].value_counts()"
   ]
  },
  {
   "cell_type": "code",
   "execution_count": 72,
   "metadata": {
    "collapsed": true
   },
   "outputs": [
    {
     "data": {
      "text/plain": [
       "0    105916\n",
       "1      2282\n",
       "Name: Warming_mention, dtype: int64"
      ]
     },
     "execution_count": 72,
     "metadata": {},
     "output_type": "execute_result"
    }
   ],
   "source": [
    "warming = re.compile(r'[G|g]lobal warming')\n",
    "articles[\"Warming_mention\"] = articles['Body'].apply(lambda x: 1 if len(re.findall(warming, str(x))) > 0 else 0)\n",
    "articles[\"Warming_mention\"].value_counts()"
   ]
  },
  {
   "cell_type": "code",
   "execution_count": 17,
   "metadata": {
    "collapsed": true
   },
   "outputs": [
    {
     "data": {
      "text/plain": [
       "0     113931\n",
       "1       1571\n",
       "2        705\n",
       "3        427\n",
       "4        359\n",
       "5        261\n",
       "6        181\n",
       "7        155\n",
       "8        123\n",
       "9         95\n",
       "10        71\n",
       "11        56\n",
       "12        49\n",
       "13        35\n",
       "16        19\n",
       "17        18\n",
       "14        15\n",
       "15        14\n",
       "19         8\n",
       "20         6\n",
       "18         4\n",
       "23         4\n",
       "24         3\n",
       "31         3\n",
       "22         2\n",
       "28         2\n",
       "34         1\n",
       "21         1\n",
       "27         1\n",
       "35         1\n",
       "Name: Related count, dtype: int64"
      ]
     },
     "execution_count": 17,
     "metadata": {},
     "output_type": "execute_result"
    }
   ],
   "source": [
    "environmental = re.compile(r'[C|c]limate change|[G|g]lobal warming|[G|g]reenhouse gasses')\n",
    "articles[\"Related count\"] = articles['Body'].apply(lambda x: len(re.findall(environmental, str(x))))\n",
    "articles[\"Related count\"].value_counts()"
   ]
  },
  {
   "cell_type": "code",
   "execution_count": 18,
   "metadata": {
    "collapsed": true
   },
   "outputs": [],
   "source": [
    "articles.loc[articles['Related count'] > 0, 'Mentioned?'] = 1"
   ]
  },
  {
   "cell_type": "code",
   "execution_count": 69,
   "metadata": {
    "collapsed": true
   },
   "outputs": [],
   "source": [
    "articles[articles['Mentioned?'] == 1].to_csv('/Users/meghajain/Desktop/climatementions.csv')"
   ]
  },
  {
   "cell_type": "code",
   "execution_count": 20,
   "metadata": {
    "collapsed": false
   },
   "outputs": [
    {
     "data": {
      "text/plain": [
       "118121"
      ]
     },
     "execution_count": 20,
     "metadata": {},
     "output_type": "execute_result"
    }
   ],
   "source": [
    "len(articles)"
   ]
  },
  {
   "cell_type": "code",
   "execution_count": 220,
   "metadata": {
    "collapsed": false
   },
   "outputs": [
    {
     "data": {
      "text/plain": [
       "Index(['Date', 'Source', 'Body', 'Event Type', 'Length', 'Climate count',\n",
       "       'Warming count', 'GHG count', 'Related count', 'Mentioned?'],\n",
       "      dtype='object')"
      ]
     },
     "execution_count": 220,
     "metadata": {},
     "output_type": "execute_result"
    }
   ],
   "source": [
    "articles.columns"
   ]
  },
  {
   "cell_type": "code",
   "execution_count": 21,
   "metadata": {
    "collapsed": false
   },
   "outputs": [],
   "source": [
    "articles.drop_duplicates(subset=['Body', 'Date'], inplace=True)"
   ]
  },
  {
   "cell_type": "markdown",
   "metadata": {},
   "source": [
    "## Articles by date"
   ]
  },
  {
   "cell_type": "code",
   "execution_count": 73,
   "metadata": {
    "collapsed": true
   },
   "outputs": [],
   "source": [
    "articles_bydate = articles.copy(deep=True)"
   ]
  },
  {
   "cell_type": "code",
   "execution_count": 74,
   "metadata": {
    "collapsed": true
   },
   "outputs": [],
   "source": [
    "articles_bydate.set_index(keys=articles_bydate['Date'], inplace=True)"
   ]
  },
  {
   "cell_type": "code",
   "execution_count": 75,
   "metadata": {
    "collapsed": false
   },
   "outputs": [],
   "source": [
    "articles_bydategrouped = articles_bydate.groupby(by=pd.TimeGrouper(freq='A'))"
   ]
  },
  {
   "cell_type": "code",
   "execution_count": 76,
   "metadata": {
    "collapsed": true
   },
   "outputs": [],
   "source": [
    "articles_bydate_df = pd.DataFrame({'All_freq': articles_bydategrouped['Mentioned?'].sum()/articles_bydategrouped.size(), 'Climate_freq': articles_bydategrouped['Climate_mention'].sum()/articles_bydategrouped.size(), 'Warming_freq': articles_bydategrouped['Warming_mention'].sum()/articles_bydategrouped.size()}).reset_index()"
   ]
  },
  {
   "cell_type": "code",
   "execution_count": 77,
   "metadata": {
    "collapsed": true
   },
   "outputs": [],
   "source": [
    "articles_bydate_df.set_index(keys=articles_bydate_df['Date'], inplace=True)"
   ]
  },
  {
   "cell_type": "code",
   "execution_count": 79,
   "metadata": {
    "collapsed": true
   },
   "outputs": [],
   "source": [
    "articles_bydate_df.to_csv(\"/Users/meghajain/Desktop/count_bydate.csv\")"
   ]
  },
  {
   "cell_type": "code",
   "execution_count": 78,
   "metadata": {
    "collapsed": false
   },
   "outputs": [
    {
     "data": {
      "image/png": "[encoded data removed]",
      "text/plain": [
       "<matplotlib.figure.Figure at 0x125a11be0>"
      ]
     },
     "metadata": {},
     "output_type": "display_data"
    }
   ],
   "source": [
    "import matplotlib.dates as dates\n",
    "\n",
    "fig, ax = plt.subplots()\n",
    "fig.set_size_inches(20,10)\n",
    "ax.plot(articles_bydate_df['All_freq'])\n",
    "ax.plot(articles_bydate_df['Climate_freq'])\n",
    "ax.plot(articles_bydate_df['Warming_freq'])\n",
    "plt.legend()\n",
    "\n",
    "# ax.xaxis.set_minor_locator(dates.MonthLocator(interval=3))\n",
    "ax.xaxis.set_major_locator(dates.YearLocator())"
   ]
  },
  {
   "cell_type": "markdown",
   "metadata": {},
   "source": [
    "## By event and date"
   ]
  },
  {
   "cell_type": "code",
   "execution_count": 83,
   "metadata": {
    "collapsed": false
   },
   "outputs": [],
   "source": [
    "articles_byeventdate = articles_bydate.groupby(by=['Event Type', pd.TimeGrouper(freq='A')])"
   ]
  },
  {
   "cell_type": "code",
   "execution_count": 84,
   "metadata": {
    "collapsed": true
   },
   "outputs": [
    {
     "data": {
      "text/plain": [
       "Event Type  Date      \n",
       "Drought     1990-12-31    0.000089\n",
       "            1991-12-31    0.000025\n",
       "            1992-12-31    0.000145\n",
       "            1993-12-31    0.000030\n",
       "            1994-12-31    0.000080\n",
       "            1995-12-31    0.000058\n",
       "            1996-12-31    0.000104\n",
       "            1997-12-31    0.000301\n",
       "            1998-12-31    0.000254\n",
       "            1999-12-31    0.000185\n",
       "            2000-12-31    0.000183\n",
       "            2001-12-31    0.000314\n",
       "            2002-12-31    0.000171\n",
       "            2003-12-31    0.000127\n",
       "            2004-12-31    0.000195\n",
       "            2005-12-31    0.000169\n",
       "            2006-12-31    0.000504\n",
       "            2007-12-31    0.000937\n",
       "            2008-12-31    0.000455\n",
       "            2009-12-31    0.000764\n",
       "            2010-12-31    0.000662\n",
       "            2011-12-31    0.000432\n",
       "            2012-12-31    0.000488\n",
       "            2013-12-31    0.000665\n",
       "            2014-12-31    0.001037\n",
       "            2015-12-31    0.000723\n",
       "Flooding    1990-12-31    0.000047\n",
       "            1991-12-31    0.000054\n",
       "            1992-12-31    0.000082\n",
       "            1993-12-31    0.000010\n",
       "                            ...   \n",
       "Hurricane   2012-12-31    0.000315\n",
       "            2013-12-31    0.000227\n",
       "            2014-12-31    0.000365\n",
       "            2015-12-31    0.000478\n",
       "Tornado     1990-12-31    0.000000\n",
       "            1991-12-31    0.000002\n",
       "            1992-12-31    0.000004\n",
       "            1993-12-31    0.000000\n",
       "            1994-12-31    0.000000\n",
       "            1995-12-31    0.000000\n",
       "            1996-12-31    0.000010\n",
       "            1997-12-31    0.000023\n",
       "            1998-12-31    0.000012\n",
       "            1999-12-31    0.000006\n",
       "            2000-12-31    0.000017\n",
       "            2001-12-31    0.000004\n",
       "            2002-12-31    0.000008\n",
       "            2003-12-31    0.000018\n",
       "            2004-12-31    0.000091\n",
       "            2005-12-31    0.000028\n",
       "            2006-12-31    0.000071\n",
       "            2007-12-31    0.000062\n",
       "            2008-12-31    0.000037\n",
       "            2009-12-31    0.000030\n",
       "            2010-12-31    0.000038\n",
       "            2011-12-31    0.000064\n",
       "            2012-12-31    0.000100\n",
       "            2013-12-31    0.000038\n",
       "            2014-12-31    0.000077\n",
       "            2015-12-31    0.000058\n",
       "dtype: float64"
      ]
     },
     "execution_count": 84,
     "metadata": {},
     "output_type": "execute_result"
    }
   ],
   "source": [
    "articles_byeventdate['Related count'].sum()/articles_byeventdate['Length'].sum()"
   ]
  },
  {
   "cell_type": "code",
   "execution_count": 120,
   "metadata": {
    "collapsed": true
   },
   "outputs": [],
   "source": [
    "articles_byeventdatedf = pd.DataFrame({'All_Freq': articles_byeventdate['Related count'].sum()/articles_byeventdate.size(), 'Climate_Freq': articles_byeventdate['Climate_mention'].sum()/articles_byeventdate.size(), 'Warming_freq': articles_byeventdate['Warming_mention'].sum()/articles_byeventdate.size()}).reset_index()"
   ]
  },
  {
   "cell_type": "code",
   "execution_count": 86,
   "metadata": {
    "collapsed": true
   },
   "outputs": [],
   "source": [
    "articles_byeventdatedf.to_csv(\"/Users/meghajain/Desktop/freq_byevent.csv\")"
   ]
  },
  {
   "cell_type": "code",
   "execution_count": 105,
   "metadata": {
    "collapsed": true
   },
   "outputs": [
    {
     "data": {
      "text/html": [
       "<div>\n",
       "<table border=\"1\" class=\"dataframe\">\n",
       "  <thead>\n",
       "    <tr style=\"text-align: right;\">\n",
       "      <th></th>\n",
       "      <th>Event Type</th>\n",
       "      <th>Date</th>\n",
       "      <th>All_Freq</th>\n",
       "      <th>Climate_freq</th>\n",
       "      <th>Warming_freq</th>\n",
       "    </tr>\n",
       "  </thead>\n",
       "  <tbody>\n",
       "    <tr>\n",
       "      <th>0</th>\n",
       "      <td>Drought</td>\n",
       "      <td>1990-12-31</td>\n",
       "      <td>0.000089</td>\n",
       "      <td>0.000010</td>\n",
       "      <td>0.000024</td>\n",
       "    </tr>\n",
       "    <tr>\n",
       "      <th>1</th>\n",
       "      <td>Drought</td>\n",
       "      <td>1991-12-31</td>\n",
       "      <td>0.000025</td>\n",
       "      <td>0.000005</td>\n",
       "      <td>0.000007</td>\n",
       "    </tr>\n",
       "    <tr>\n",
       "      <th>2</th>\n",
       "      <td>Drought</td>\n",
       "      <td>1992-12-31</td>\n",
       "      <td>0.000145</td>\n",
       "      <td>0.000018</td>\n",
       "      <td>0.000024</td>\n",
       "    </tr>\n",
       "    <tr>\n",
       "      <th>3</th>\n",
       "      <td>Drought</td>\n",
       "      <td>1993-12-31</td>\n",
       "      <td>0.000030</td>\n",
       "      <td>0.000004</td>\n",
       "      <td>0.000010</td>\n",
       "    </tr>\n",
       "    <tr>\n",
       "      <th>4</th>\n",
       "      <td>Drought</td>\n",
       "      <td>1994-12-31</td>\n",
       "      <td>0.000080</td>\n",
       "      <td>0.000006</td>\n",
       "      <td>0.000009</td>\n",
       "    </tr>\n",
       "  </tbody>\n",
       "</table>\n",
       "</div>"
      ],
      "text/plain": [
       "  Event Type       Date  All_Freq  Climate_freq  Warming_freq\n",
       "0    Drought 1990-12-31  0.000089      0.000010      0.000024\n",
       "1    Drought 1991-12-31  0.000025      0.000005      0.000007\n",
       "2    Drought 1992-12-31  0.000145      0.000018      0.000024\n",
       "3    Drought 1993-12-31  0.000030      0.000004      0.000010\n",
       "4    Drought 1994-12-31  0.000080      0.000006      0.000009"
      ]
     },
     "execution_count": 105,
     "metadata": {},
     "output_type": "execute_result"
    }
   ],
   "source": [
    "articles_byeventdatedf.head()"
   ]
  },
  {
   "cell_type": "code",
   "execution_count": 121,
   "metadata": {
    "collapsed": false
   },
   "outputs": [],
   "source": [
    "articles_byeventdatedf.rename(columns={'Climate_Freq': \"Climate_freq\", 'All_Freq': 'All_freq'},inplace=True)"
   ]
  },
  {
   "cell_type": "markdown",
   "metadata": {},
   "source": [
    "## Data for visualization"
   ]
  },
  {
   "cell_type": "code",
   "execution_count": 122,
   "metadata": {
    "collapsed": false
   },
   "outputs": [
    {
     "data": {
      "text/html": [
       "<div>\n",
       "<table border=\"1\" class=\"dataframe\">\n",
       "  <thead>\n",
       "    <tr style=\"text-align: right;\">\n",
       "      <th></th>\n",
       "      <th>Date</th>\n",
       "      <th>All_freq</th>\n",
       "      <th>Climate_freq</th>\n",
       "      <th>Warming_freq</th>\n",
       "    </tr>\n",
       "  </thead>\n",
       "  <tbody>\n",
       "    <tr>\n",
       "      <th>0</th>\n",
       "      <td>1990-12-31</td>\n",
       "      <td>0.012560</td>\n",
       "      <td>0.004270</td>\n",
       "      <td>0.011806</td>\n",
       "    </tr>\n",
       "    <tr>\n",
       "      <th>1</th>\n",
       "      <td>1991-12-31</td>\n",
       "      <td>0.007640</td>\n",
       "      <td>0.003056</td>\n",
       "      <td>0.006985</td>\n",
       "    </tr>\n",
       "    <tr>\n",
       "      <th>2</th>\n",
       "      <td>1992-12-31</td>\n",
       "      <td>0.014093</td>\n",
       "      <td>0.006178</td>\n",
       "      <td>0.012934</td>\n",
       "    </tr>\n",
       "    <tr>\n",
       "      <th>3</th>\n",
       "      <td>1993-12-31</td>\n",
       "      <td>0.005799</td>\n",
       "      <td>0.001691</td>\n",
       "      <td>0.004832</td>\n",
       "    </tr>\n",
       "    <tr>\n",
       "      <th>4</th>\n",
       "      <td>1994-12-31</td>\n",
       "      <td>0.006169</td>\n",
       "      <td>0.002742</td>\n",
       "      <td>0.004455</td>\n",
       "    </tr>\n",
       "  </tbody>\n",
       "</table>\n",
       "</div>"
      ],
      "text/plain": [
       "        Date  All_freq  Climate_freq  Warming_freq\n",
       "0 1990-12-31  0.012560      0.004270      0.011806\n",
       "1 1991-12-31  0.007640      0.003056      0.006985\n",
       "2 1992-12-31  0.014093      0.006178      0.012934\n",
       "3 1993-12-31  0.005799      0.001691      0.004832\n",
       "4 1994-12-31  0.006169      0.002742      0.004455"
      ]
     },
     "execution_count": 122,
     "metadata": {},
     "output_type": "execute_result"
    }
   ],
   "source": [
    "# articles_bydate_df.drop(labels=['Date'],axis=1,inplace=True)\n",
    "articles_forviz = articles_bydate_df.reset_index()\n",
    "articles_forviz.head()"
   ]
  },
  {
   "cell_type": "code",
   "execution_count": 123,
   "metadata": {
    "collapsed": false
   },
   "outputs": [
    {
     "data": {
      "text/plain": [
       "(26, 104)"
      ]
     },
     "execution_count": 123,
     "metadata": {},
     "output_type": "execute_result"
    }
   ],
   "source": [
    "len(articles_forviz), len(articles_byeventdatedf)"
   ]
  },
  {
   "cell_type": "code",
   "execution_count": 124,
   "metadata": {
    "collapsed": true
   },
   "outputs": [],
   "source": [
    "articles_forviz = pd.concat(objs=[articles_forviz, articles_byeventdatedf], ignore_index=True)"
   ]
  },
  {
   "cell_type": "code",
   "execution_count": 125,
   "metadata": {
    "collapsed": false
   },
   "outputs": [
    {
     "data": {
      "text/plain": [
       "130"
      ]
     },
     "execution_count": 125,
     "metadata": {},
     "output_type": "execute_result"
    }
   ],
   "source": [
    "len(articles_forviz)"
   ]
  },
  {
   "cell_type": "code",
   "execution_count": 126,
   "metadata": {
    "collapsed": false
   },
   "outputs": [],
   "source": [
    "articles_forviz.loc[articles_forviz['Event Type'].isnull(), 'Event Type'] = 'All'"
   ]
  },
  {
   "cell_type": "code",
   "execution_count": 127,
   "metadata": {
    "collapsed": false
   },
   "outputs": [
    {
     "data": {
      "text/html": [
       "<div>\n",
       "<table border=\"1\" class=\"dataframe\">\n",
       "  <thead>\n",
       "    <tr style=\"text-align: right;\">\n",
       "      <th></th>\n",
       "      <th>All_freq</th>\n",
       "      <th>Climate_freq</th>\n",
       "      <th>Date</th>\n",
       "      <th>Event Type</th>\n",
       "      <th>Warming_freq</th>\n",
       "    </tr>\n",
       "  </thead>\n",
       "  <tbody>\n",
       "    <tr>\n",
       "      <th>0</th>\n",
       "      <td>0.012560</td>\n",
       "      <td>0.004270</td>\n",
       "      <td>1990-12-31</td>\n",
       "      <td>All</td>\n",
       "      <td>0.011806</td>\n",
       "    </tr>\n",
       "    <tr>\n",
       "      <th>1</th>\n",
       "      <td>0.007640</td>\n",
       "      <td>0.003056</td>\n",
       "      <td>1991-12-31</td>\n",
       "      <td>All</td>\n",
       "      <td>0.006985</td>\n",
       "    </tr>\n",
       "    <tr>\n",
       "      <th>2</th>\n",
       "      <td>0.014093</td>\n",
       "      <td>0.006178</td>\n",
       "      <td>1992-12-31</td>\n",
       "      <td>All</td>\n",
       "      <td>0.012934</td>\n",
       "    </tr>\n",
       "    <tr>\n",
       "      <th>3</th>\n",
       "      <td>0.005799</td>\n",
       "      <td>0.001691</td>\n",
       "      <td>1993-12-31</td>\n",
       "      <td>All</td>\n",
       "      <td>0.004832</td>\n",
       "    </tr>\n",
       "    <tr>\n",
       "      <th>4</th>\n",
       "      <td>0.006169</td>\n",
       "      <td>0.002742</td>\n",
       "      <td>1994-12-31</td>\n",
       "      <td>All</td>\n",
       "      <td>0.004455</td>\n",
       "    </tr>\n",
       "  </tbody>\n",
       "</table>\n",
       "</div>"
      ],
      "text/plain": [
       "   All_freq  Climate_freq       Date Event Type  Warming_freq\n",
       "0  0.012560      0.004270 1990-12-31        All      0.011806\n",
       "1  0.007640      0.003056 1991-12-31        All      0.006985\n",
       "2  0.014093      0.006178 1992-12-31        All      0.012934\n",
       "3  0.005799      0.001691 1993-12-31        All      0.004832\n",
       "4  0.006169      0.002742 1994-12-31        All      0.004455"
      ]
     },
     "execution_count": 127,
     "metadata": {},
     "output_type": "execute_result"
    }
   ],
   "source": [
    "articles_forviz.head()"
   ]
  },
  {
   "cell_type": "code",
   "execution_count": 128,
   "metadata": {
    "collapsed": true
   },
   "outputs": [],
   "source": [
    "articles_forviz.to_csv('/Users/meghajain/Desktop/freq_byevent.csv')"
   ]
  },
  {
   "cell_type": "code",
   "execution_count": null,
   "metadata": {
    "collapsed": true
   },
   "outputs": [],
   "source": []
  },
  {
   "cell_type": "code",
   "execution_count": null,
   "metadata": {
    "collapsed": true
   },
   "outputs": [],
   "source": []
  },
  {
   "cell_type": "markdown",
   "metadata": {},
   "source": [
    "## Data exploration\n",
    "#### Looking at how the mentions vary by event type"
   ]
  },
  {
   "cell_type": "code",
   "execution_count": 28,
   "metadata": {
    "collapsed": false
   },
   "outputs": [],
   "source": [
    "drought_byeventdate = articles_byeventdatedf[articles_byeventdatedf['Event Type'] == 'Drought']"
   ]
  },
  {
   "cell_type": "code",
   "execution_count": 30,
   "metadata": {
    "collapsed": true
   },
   "outputs": [],
   "source": [
    "drought_byeventdate.set_index('Date',inplace=True)"
   ]
  },
  {
   "cell_type": "code",
   "execution_count": 32,
   "metadata": {
    "collapsed": true
   },
   "outputs": [],
   "source": [
    "hurricane_byeventdate = articles_byeventdatedf[articles_byeventdatedf['Event Type'] == 'Hurricane']\n",
    "hurricane_byeventdate.set_index('Date',inplace=True)"
   ]
  },
  {
   "cell_type": "code",
   "execution_count": 33,
   "metadata": {
    "collapsed": true
   },
   "outputs": [],
   "source": [
    "tornado_byeventdate = articles_byeventdatedf[articles_byeventdatedf['Event Type'] == 'Tornado']\n",
    "tornado_byeventdate.set_index('Date',inplace=True)"
   ]
  },
  {
   "cell_type": "code",
   "execution_count": 34,
   "metadata": {
    "collapsed": true
   },
   "outputs": [],
   "source": [
    "flooding_byeventdate = articles_byeventdatedf[articles_byeventdatedf['Event Type'] == 'Flooding']\n",
    "flooding_byeventdate.set_index('Date',inplace=True)"
   ]
  },
  {
   "cell_type": "code",
   "execution_count": 36,
   "metadata": {
    "collapsed": false
   },
   "outputs": [
    {
     "data": {
      "text/plain": [
       "<matplotlib.legend.Legend at 0x116db1b70>"
      ]
     },
     "execution_count": 36,
     "metadata": {},
     "output_type": "execute_result"
    },
    {
     "data": {
      "image/png": "[encoded data removed]",
      "text/plain": [
       "<matplotlib.figure.Figure at 0x116369320>"
      ]
     },
     "metadata": {},
     "output_type": "display_data"
    }
   ],
   "source": [
    "plt.plot(drought_byeventdate['All_Freq'],label='Drought')\n",
    "plt.plot(hurricane_byeventdate['All_Freq'],label='Hurricane')\n",
    "plt.plot(flooding_byeventdate['All_Freq'],label='Flooding')\n",
    "plt.plot(tornado_byeventdate['All_Freq'],label='Tornado')\n",
    "plt.legend()"
   ]
  },
  {
   "cell_type": "code",
   "execution_count": 39,
   "metadata": {
    "collapsed": false
   },
   "outputs": [
    {
     "data": {
      "text/plain": [
       "<matplotlib.legend.Legend at 0x123337fd0>"
      ]
     },
     "execution_count": 39,
     "metadata": {},
     "output_type": "execute_result"
    },
    {
     "data": {
      "image/png": "[encoded data removed]",
      "text/plain": [
       "<matplotlib.figure.Figure at 0x118d29e48>"
      ]
     },
     "metadata": {},
     "output_type": "display_data"
    }
   ],
   "source": [
    "plt.plot(drought_byeventdate['All_Freq'])\n",
    "plt.plot(drought_byeventdate['Climate_Freq'])\n",
    "plt.plot(drought_byeventdate['Warming_freq'])\n",
    "plt.legend()"
   ]
  },
  {
   "cell_type": "markdown",
   "metadata": {},
   "source": [
    "#### Looking at how the mentions vary by source"
   ]
  },
  {
   "cell_type": "code",
   "execution_count": 129,
   "metadata": {
    "collapsed": true
   },
   "outputs": [],
   "source": [
    "articles_bysource = articles_bydate.groupby(by=['Source'])"
   ]
  },
  {
   "cell_type": "code",
   "execution_count": 132,
   "metadata": {
    "collapsed": false
   },
   "outputs": [],
   "source": [
    "articles_bysourcedf = pd.DataFrame({'All_freq': articles_bysource['Related count'].sum()/articles_bysource.size(), 'Climate_freq': articles_bysource['Climate count'].sum()/articles_bysource.size(), 'Warming_freq': articles_bysource['Warming count'].sum()/articles_bysource.size()})"
   ]
  },
  {
   "cell_type": "code",
   "execution_count": 137,
   "metadata": {
    "collapsed": false
   },
   "outputs": [
    {
     "data": {
      "text/html": [
       "<div>\n",
       "<table border=\"1\" class=\"dataframe\">\n",
       "  <thead>\n",
       "    <tr style=\"text-align: right;\">\n",
       "      <th></th>\n",
       "      <th>All_freq</th>\n",
       "      <th>Climate_freq</th>\n",
       "      <th>Warming_freq</th>\n",
       "    </tr>\n",
       "    <tr>\n",
       "      <th>Source</th>\n",
       "      <th></th>\n",
       "      <th></th>\n",
       "      <th></th>\n",
       "    </tr>\n",
       "  </thead>\n",
       "  <tbody>\n",
       "    <tr>\n",
       "      <th>Boston Globe</th>\n",
       "      <td>0.272358</td>\n",
       "      <td>0.133775</td>\n",
       "      <td>0.138156</td>\n",
       "    </tr>\n",
       "    <tr>\n",
       "      <th>Des Moines Register</th>\n",
       "      <td>0.138701</td>\n",
       "      <td>0.095850</td>\n",
       "      <td>0.042625</td>\n",
       "    </tr>\n",
       "    <tr>\n",
       "      <th>USA Today</th>\n",
       "      <td>0.151304</td>\n",
       "      <td>0.079442</td>\n",
       "      <td>0.071862</td>\n",
       "    </tr>\n",
       "    <tr>\n",
       "      <th>LA Times</th>\n",
       "      <td>0.149970</td>\n",
       "      <td>0.075644</td>\n",
       "      <td>0.074251</td>\n",
       "    </tr>\n",
       "    <tr>\n",
       "      <th>Foxnews.com</th>\n",
       "      <td>0.078880</td>\n",
       "      <td>0.046438</td>\n",
       "      <td>0.031807</td>\n",
       "    </tr>\n",
       "    <tr>\n",
       "      <th>Arizona Republic</th>\n",
       "      <td>0.065654</td>\n",
       "      <td>0.045076</td>\n",
       "      <td>0.020333</td>\n",
       "    </tr>\n",
       "    <tr>\n",
       "      <th>Chicago Tribune</th>\n",
       "      <td>0.072474</td>\n",
       "      <td>0.037167</td>\n",
       "      <td>0.035307</td>\n",
       "    </tr>\n",
       "    <tr>\n",
       "      <th>The Tampa Tribune</th>\n",
       "      <td>0.049803</td>\n",
       "      <td>0.031503</td>\n",
       "      <td>0.018300</td>\n",
       "    </tr>\n",
       "    <tr>\n",
       "      <th>NY Times</th>\n",
       "      <td>0.054655</td>\n",
       "      <td>0.030814</td>\n",
       "      <td>0.023840</td>\n",
       "    </tr>\n",
       "    <tr>\n",
       "      <th>Atlanta Journal-Constitution</th>\n",
       "      <td>0.064070</td>\n",
       "      <td>0.028253</td>\n",
       "      <td>0.035245</td>\n",
       "    </tr>\n",
       "    <tr>\n",
       "      <th>Austin Statesman</th>\n",
       "      <td>0.064001</td>\n",
       "      <td>0.027771</td>\n",
       "      <td>0.035803</td>\n",
       "    </tr>\n",
       "    <tr>\n",
       "      <th>Tampa Bay Times</th>\n",
       "      <td>0.034123</td>\n",
       "      <td>0.015074</td>\n",
       "      <td>0.019049</td>\n",
       "    </tr>\n",
       "  </tbody>\n",
       "</table>\n",
       "</div>"
      ],
      "text/plain": [
       "                              All_freq  Climate_freq  Warming_freq\n",
       "Source                                                            \n",
       "Boston Globe                  0.272358      0.133775      0.138156\n",
       "Des Moines Register           0.138701      0.095850      0.042625\n",
       "USA Today                     0.151304      0.079442      0.071862\n",
       "LA Times                      0.149970      0.075644      0.074251\n",
       "Foxnews.com                   0.078880      0.046438      0.031807\n",
       "Arizona Republic              0.065654      0.045076      0.020333\n",
       "Chicago Tribune               0.072474      0.037167      0.035307\n",
       "The Tampa Tribune             0.049803      0.031503      0.018300\n",
       "NY Times                      0.054655      0.030814      0.023840\n",
       "Atlanta Journal-Constitution  0.064070      0.028253      0.035245\n",
       "Austin Statesman              0.064001      0.027771      0.035803\n",
       "Tampa Bay Times               0.034123      0.015074      0.019049"
      ]
     },
     "execution_count": 137,
     "metadata": {},
     "output_type": "execute_result"
    }
   ],
   "source": [
    "articles_bysourcedf.sort_values('Climate_freq', ascending=False)"
   ]
  },
  {
   "cell_type": "code",
   "execution_count": 52,
   "metadata": {
    "collapsed": true
   },
   "outputs": [],
   "source": [
    "articles_bysourcedate = articles_bydate.groupby(by=['Source',pd.TimeGrouper(freq='A')])"
   ]
  },
  {
   "cell_type": "code",
   "execution_count": 139,
   "metadata": {
    "collapsed": true
   },
   "outputs": [],
   "source": [
    "articles_bysourcedatedf = pd.DataFrame({'All_Freq': articles_bysourcedate['Related count'].sum()/articles_bysourcedate['Length'].sum(), 'Climate_Freq': articles_bysourcedate['Climate count'].sum()/articles_bysourcedate['Length'].sum(), 'Warming_Freq': articles_bysourcedate['Warming count'].sum()/articles_bysourcedate['Length'].sum()}).reset_index()"
   ]
  },
  {
   "cell_type": "code",
   "execution_count": 140,
   "metadata": {
    "collapsed": false
   },
   "outputs": [
    {
     "data": {
      "text/html": [
       "<div>\n",
       "<table border=\"1\" class=\"dataframe\">\n",
       "  <thead>\n",
       "    <tr style=\"text-align: right;\">\n",
       "      <th></th>\n",
       "      <th>Source</th>\n",
       "      <th>Date</th>\n",
       "      <th>All_Freq</th>\n",
       "      <th>Climate_Freq</th>\n",
       "      <th>Warming_Freq</th>\n",
       "    </tr>\n",
       "  </thead>\n",
       "  <tbody>\n",
       "    <tr>\n",
       "      <th>0</th>\n",
       "      <td>Arizona Republic</td>\n",
       "      <td>1999-12-31</td>\n",
       "      <td>0.000000</td>\n",
       "      <td>0.000000</td>\n",
       "      <td>0.000000</td>\n",
       "    </tr>\n",
       "    <tr>\n",
       "      <th>1</th>\n",
       "      <td>Arizona Republic</td>\n",
       "      <td>2000-12-31</td>\n",
       "      <td>0.000000</td>\n",
       "      <td>0.000000</td>\n",
       "      <td>0.000000</td>\n",
       "    </tr>\n",
       "    <tr>\n",
       "      <th>2</th>\n",
       "      <td>Arizona Republic</td>\n",
       "      <td>2001-12-31</td>\n",
       "      <td>0.000000</td>\n",
       "      <td>0.000000</td>\n",
       "      <td>0.000000</td>\n",
       "    </tr>\n",
       "    <tr>\n",
       "      <th>3</th>\n",
       "      <td>Arizona Republic</td>\n",
       "      <td>2002-12-31</td>\n",
       "      <td>0.000043</td>\n",
       "      <td>0.000026</td>\n",
       "      <td>0.000009</td>\n",
       "    </tr>\n",
       "    <tr>\n",
       "      <th>4</th>\n",
       "      <td>Arizona Republic</td>\n",
       "      <td>2003-12-31</td>\n",
       "      <td>0.000022</td>\n",
       "      <td>0.000007</td>\n",
       "      <td>0.000015</td>\n",
       "    </tr>\n",
       "  </tbody>\n",
       "</table>\n",
       "</div>"
      ],
      "text/plain": [
       "             Source       Date  All_Freq  Climate_Freq  Warming_Freq\n",
       "0  Arizona Republic 1999-12-31  0.000000      0.000000      0.000000\n",
       "1  Arizona Republic 2000-12-31  0.000000      0.000000      0.000000\n",
       "2  Arizona Republic 2001-12-31  0.000000      0.000000      0.000000\n",
       "3  Arizona Republic 2002-12-31  0.000043      0.000026      0.000009\n",
       "4  Arizona Republic 2003-12-31  0.000022      0.000007      0.000015"
      ]
     },
     "execution_count": 140,
     "metadata": {},
     "output_type": "execute_result"
    }
   ],
   "source": [
    "articles_bysourcedatedf.head()"
   ]
  },
  {
   "cell_type": "code",
   "execution_count": 58,
   "metadata": {
    "collapsed": false
   },
   "outputs": [],
   "source": [
    "articles_bysourcedatedf.set_index('Date',inplace=True)"
   ]
  },
  {
   "cell_type": "code",
   "execution_count": 63,
   "metadata": {
    "collapsed": false
   },
   "outputs": [
    {
     "data": {
      "text/plain": [
       "array(['Arizona Republic', 'Atlanta Journal-Constitution',\n",
       "       'Austin Statesman', 'Boston Globe', 'Chicago Tribune',\n",
       "       'Des Moines Register', 'Foxnews.com', 'LA Times', 'NY Times',\n",
       "       'Tampa Bay Times', 'The Tampa Tribune', 'USA Today'], dtype=object)"
      ]
     },
     "execution_count": 63,
     "metadata": {},
     "output_type": "execute_result"
    }
   ],
   "source": [
    "articles_bysourcedatedf['Source'].unique()"
   ]
  },
  {
   "cell_type": "code",
   "execution_count": 141,
   "metadata": {
    "collapsed": true
   },
   "outputs": [],
   "source": [
    "pivot = articles_bysourcedatedf.pivot(index=\"Source\", columns = \"Date\", values=\"All_Freq\")"
   ]
  },
  {
   "cell_type": "code",
   "execution_count": 143,
   "metadata": {
    "collapsed": false
   },
   "outputs": [
    {
     "data": {
      "text/html": [
       "<div>\n",
       "<table border=\"1\" class=\"dataframe\">\n",
       "  <thead>\n",
       "    <tr style=\"text-align: right;\">\n",
       "      <th>Date</th>\n",
       "      <th>1990-12-31 00:00:00</th>\n",
       "      <th>1991-12-31 00:00:00</th>\n",
       "      <th>1992-12-31 00:00:00</th>\n",
       "      <th>1993-12-31 00:00:00</th>\n",
       "      <th>1994-12-31 00:00:00</th>\n",
       "      <th>1995-12-31 00:00:00</th>\n",
       "      <th>1996-12-31 00:00:00</th>\n",
       "      <th>1997-12-31 00:00:00</th>\n",
       "      <th>1998-12-31 00:00:00</th>\n",
       "      <th>1999-12-31 00:00:00</th>\n",
       "      <th>...</th>\n",
       "      <th>2006-12-31 00:00:00</th>\n",
       "      <th>2007-12-31 00:00:00</th>\n",
       "      <th>2008-12-31 00:00:00</th>\n",
       "      <th>2009-12-31 00:00:00</th>\n",
       "      <th>2010-12-31 00:00:00</th>\n",
       "      <th>2011-12-31 00:00:00</th>\n",
       "      <th>2012-12-31 00:00:00</th>\n",
       "      <th>2013-12-31 00:00:00</th>\n",
       "      <th>2014-12-31 00:00:00</th>\n",
       "      <th>2015-12-31 00:00:00</th>\n",
       "    </tr>\n",
       "    <tr>\n",
       "      <th>Source</th>\n",
       "      <th></th>\n",
       "      <th></th>\n",
       "      <th></th>\n",
       "      <th></th>\n",
       "      <th></th>\n",
       "      <th></th>\n",
       "      <th></th>\n",
       "      <th></th>\n",
       "      <th></th>\n",
       "      <th></th>\n",
       "      <th></th>\n",
       "      <th></th>\n",
       "      <th></th>\n",
       "      <th></th>\n",
       "      <th></th>\n",
       "      <th></th>\n",
       "      <th></th>\n",
       "      <th></th>\n",
       "      <th></th>\n",
       "      <th></th>\n",
       "      <th></th>\n",
       "    </tr>\n",
       "  </thead>\n",
       "  <tbody>\n",
       "    <tr>\n",
       "      <th>Arizona Republic</th>\n",
       "      <td>0.000000</td>\n",
       "      <td>0.000000</td>\n",
       "      <td>0.000000</td>\n",
       "      <td>0.000000</td>\n",
       "      <td>0.000000</td>\n",
       "      <td>0.000000</td>\n",
       "      <td>0.000000</td>\n",
       "      <td>0.000000</td>\n",
       "      <td>0.000000</td>\n",
       "      <td>0.000000</td>\n",
       "      <td>...</td>\n",
       "      <td>0.000122</td>\n",
       "      <td>0.000244</td>\n",
       "      <td>0.000169</td>\n",
       "      <td>0.000047</td>\n",
       "      <td>0.000032</td>\n",
       "      <td>0.000035</td>\n",
       "      <td>0.000069</td>\n",
       "      <td>0.000169</td>\n",
       "      <td>0.000181</td>\n",
       "      <td>0.000668</td>\n",
       "    </tr>\n",
       "    <tr>\n",
       "      <th>Atlanta Journal-Constitution</th>\n",
       "      <td>0.000000</td>\n",
       "      <td>0.000000</td>\n",
       "      <td>0.000000</td>\n",
       "      <td>0.000000</td>\n",
       "      <td>0.000000</td>\n",
       "      <td>0.000000</td>\n",
       "      <td>0.000000</td>\n",
       "      <td>0.000142</td>\n",
       "      <td>0.000000</td>\n",
       "      <td>0.000007</td>\n",
       "      <td>...</td>\n",
       "      <td>0.000134</td>\n",
       "      <td>0.000278</td>\n",
       "      <td>0.000089</td>\n",
       "      <td>0.000052</td>\n",
       "      <td>0.000054</td>\n",
       "      <td>0.000021</td>\n",
       "      <td>0.000011</td>\n",
       "      <td>0.000045</td>\n",
       "      <td>0.000367</td>\n",
       "      <td>0.000516</td>\n",
       "    </tr>\n",
       "    <tr>\n",
       "      <th>Austin Statesman</th>\n",
       "      <td>0.000044</td>\n",
       "      <td>0.000027</td>\n",
       "      <td>0.000067</td>\n",
       "      <td>0.000008</td>\n",
       "      <td>0.000131</td>\n",
       "      <td>0.000050</td>\n",
       "      <td>0.000064</td>\n",
       "      <td>0.000091</td>\n",
       "      <td>0.000080</td>\n",
       "      <td>0.000034</td>\n",
       "      <td>...</td>\n",
       "      <td>0.000131</td>\n",
       "      <td>0.000740</td>\n",
       "      <td>0.000132</td>\n",
       "      <td>0.000183</td>\n",
       "      <td>0.000024</td>\n",
       "      <td>0.000080</td>\n",
       "      <td>0.000077</td>\n",
       "      <td>0.000119</td>\n",
       "      <td>0.000107</td>\n",
       "      <td>0.000137</td>\n",
       "    </tr>\n",
       "    <tr>\n",
       "      <th>Boston Globe</th>\n",
       "      <td>0.000169</td>\n",
       "      <td>0.000041</td>\n",
       "      <td>0.000146</td>\n",
       "      <td>0.000018</td>\n",
       "      <td>0.000098</td>\n",
       "      <td>0.000067</td>\n",
       "      <td>0.000048</td>\n",
       "      <td>0.000540</td>\n",
       "      <td>0.000229</td>\n",
       "      <td>0.000225</td>\n",
       "      <td>...</td>\n",
       "      <td>0.000422</td>\n",
       "      <td>0.001032</td>\n",
       "      <td>0.000458</td>\n",
       "      <td>0.000845</td>\n",
       "      <td>0.000400</td>\n",
       "      <td>0.000299</td>\n",
       "      <td>0.000763</td>\n",
       "      <td>0.000657</td>\n",
       "      <td>0.000856</td>\n",
       "      <td>0.000933</td>\n",
       "    </tr>\n",
       "    <tr>\n",
       "      <th>Chicago Tribune</th>\n",
       "      <td>0.000059</td>\n",
       "      <td>0.000023</td>\n",
       "      <td>0.000088</td>\n",
       "      <td>0.000016</td>\n",
       "      <td>0.000004</td>\n",
       "      <td>0.000020</td>\n",
       "      <td>0.000060</td>\n",
       "      <td>0.000153</td>\n",
       "      <td>0.000077</td>\n",
       "      <td>0.000063</td>\n",
       "      <td>...</td>\n",
       "      <td>0.000120</td>\n",
       "      <td>0.000534</td>\n",
       "      <td>0.000156</td>\n",
       "      <td>0.000540</td>\n",
       "      <td>0.000303</td>\n",
       "      <td>0.000231</td>\n",
       "      <td>0.000249</td>\n",
       "      <td>0.000133</td>\n",
       "      <td>0.000575</td>\n",
       "      <td>0.000357</td>\n",
       "    </tr>\n",
       "    <tr>\n",
       "      <th>Des Moines Register</th>\n",
       "      <td>0.000000</td>\n",
       "      <td>0.000000</td>\n",
       "      <td>0.000000</td>\n",
       "      <td>0.000000</td>\n",
       "      <td>0.000000</td>\n",
       "      <td>0.000000</td>\n",
       "      <td>0.000000</td>\n",
       "      <td>0.000000</td>\n",
       "      <td>0.000000</td>\n",
       "      <td>0.000144</td>\n",
       "      <td>...</td>\n",
       "      <td>0.000266</td>\n",
       "      <td>0.000340</td>\n",
       "      <td>0.000181</td>\n",
       "      <td>0.000285</td>\n",
       "      <td>0.000054</td>\n",
       "      <td>0.000180</td>\n",
       "      <td>0.000142</td>\n",
       "      <td>0.000092</td>\n",
       "      <td>0.000869</td>\n",
       "      <td>0.000702</td>\n",
       "    </tr>\n",
       "    <tr>\n",
       "      <th>Foxnews.com</th>\n",
       "      <td>0.000000</td>\n",
       "      <td>0.000000</td>\n",
       "      <td>0.000000</td>\n",
       "      <td>0.000000</td>\n",
       "      <td>0.000000</td>\n",
       "      <td>0.000000</td>\n",
       "      <td>0.000000</td>\n",
       "      <td>0.000000</td>\n",
       "      <td>0.000000</td>\n",
       "      <td>0.000000</td>\n",
       "      <td>...</td>\n",
       "      <td>0.000000</td>\n",
       "      <td>0.000000</td>\n",
       "      <td>0.000000</td>\n",
       "      <td>0.000000</td>\n",
       "      <td>0.000021</td>\n",
       "      <td>0.000020</td>\n",
       "      <td>0.000407</td>\n",
       "      <td>0.000088</td>\n",
       "      <td>0.000188</td>\n",
       "      <td>0.000111</td>\n",
       "    </tr>\n",
       "    <tr>\n",
       "      <th>LA Times</th>\n",
       "      <td>0.000047</td>\n",
       "      <td>0.000027</td>\n",
       "      <td>0.000062</td>\n",
       "      <td>0.000023</td>\n",
       "      <td>0.000012</td>\n",
       "      <td>0.000032</td>\n",
       "      <td>0.000052</td>\n",
       "      <td>0.000142</td>\n",
       "      <td>0.000107</td>\n",
       "      <td>0.000099</td>\n",
       "      <td>...</td>\n",
       "      <td>0.000210</td>\n",
       "      <td>0.000535</td>\n",
       "      <td>0.000323</td>\n",
       "      <td>0.000600</td>\n",
       "      <td>0.000279</td>\n",
       "      <td>0.000403</td>\n",
       "      <td>0.000536</td>\n",
       "      <td>0.000487</td>\n",
       "      <td>0.000677</td>\n",
       "      <td>0.000653</td>\n",
       "    </tr>\n",
       "    <tr>\n",
       "      <th>NY Times</th>\n",
       "      <td>0.000000</td>\n",
       "      <td>0.000099</td>\n",
       "      <td>0.000000</td>\n",
       "      <td>0.000000</td>\n",
       "      <td>0.000000</td>\n",
       "      <td>0.000000</td>\n",
       "      <td>0.000007</td>\n",
       "      <td>0.000057</td>\n",
       "      <td>0.000134</td>\n",
       "      <td>0.000007</td>\n",
       "      <td>...</td>\n",
       "      <td>0.000070</td>\n",
       "      <td>0.000126</td>\n",
       "      <td>0.000060</td>\n",
       "      <td>0.000153</td>\n",
       "      <td>0.000000</td>\n",
       "      <td>0.000258</td>\n",
       "      <td>0.000068</td>\n",
       "      <td>0.000306</td>\n",
       "      <td>0.001436</td>\n",
       "      <td>0.001309</td>\n",
       "    </tr>\n",
       "    <tr>\n",
       "      <th>Tampa Bay Times</th>\n",
       "      <td>0.000029</td>\n",
       "      <td>0.000018</td>\n",
       "      <td>0.000009</td>\n",
       "      <td>0.000000</td>\n",
       "      <td>0.000000</td>\n",
       "      <td>0.000027</td>\n",
       "      <td>0.000000</td>\n",
       "      <td>0.000000</td>\n",
       "      <td>0.000000</td>\n",
       "      <td>0.000011</td>\n",
       "      <td>...</td>\n",
       "      <td>0.000045</td>\n",
       "      <td>0.000152</td>\n",
       "      <td>0.000268</td>\n",
       "      <td>0.000089</td>\n",
       "      <td>0.000019</td>\n",
       "      <td>0.000099</td>\n",
       "      <td>0.000012</td>\n",
       "      <td>0.000445</td>\n",
       "      <td>0.000602</td>\n",
       "      <td>0.000384</td>\n",
       "    </tr>\n",
       "    <tr>\n",
       "      <th>The Tampa Tribune</th>\n",
       "      <td>0.000000</td>\n",
       "      <td>0.000000</td>\n",
       "      <td>0.000000</td>\n",
       "      <td>0.000000</td>\n",
       "      <td>0.000000</td>\n",
       "      <td>0.000000</td>\n",
       "      <td>0.000000</td>\n",
       "      <td>0.000007</td>\n",
       "      <td>0.000070</td>\n",
       "      <td>0.000050</td>\n",
       "      <td>...</td>\n",
       "      <td>0.000051</td>\n",
       "      <td>0.000075</td>\n",
       "      <td>0.000058</td>\n",
       "      <td>0.000000</td>\n",
       "      <td>0.000000</td>\n",
       "      <td>0.000000</td>\n",
       "      <td>0.001007</td>\n",
       "      <td>0.000420</td>\n",
       "      <td>0.000824</td>\n",
       "      <td>0.000515</td>\n",
       "    </tr>\n",
       "    <tr>\n",
       "      <th>USA Today</th>\n",
       "      <td>0.000020</td>\n",
       "      <td>0.000000</td>\n",
       "      <td>0.000060</td>\n",
       "      <td>0.000000</td>\n",
       "      <td>0.000020</td>\n",
       "      <td>0.000042</td>\n",
       "      <td>0.000000</td>\n",
       "      <td>0.000225</td>\n",
       "      <td>0.000144</td>\n",
       "      <td>0.000036</td>\n",
       "      <td>...</td>\n",
       "      <td>0.000328</td>\n",
       "      <td>0.000455</td>\n",
       "      <td>0.000249</td>\n",
       "      <td>0.000322</td>\n",
       "      <td>0.000186</td>\n",
       "      <td>0.000323</td>\n",
       "      <td>0.000423</td>\n",
       "      <td>0.001321</td>\n",
       "      <td>0.001502</td>\n",
       "      <td>0.000846</td>\n",
       "    </tr>\n",
       "  </tbody>\n",
       "</table>\n",
       "<p>12 rows × 26 columns</p>\n",
       "</div>"
      ],
      "text/plain": [
       "Date                          1990-12-31  1991-12-31  1992-12-31  1993-12-31  \\\n",
       "Source                                                                         \n",
       "Arizona Republic                0.000000    0.000000    0.000000    0.000000   \n",
       "Atlanta Journal-Constitution    0.000000    0.000000    0.000000    0.000000   \n",
       "Austin Statesman                0.000044    0.000027    0.000067    0.000008   \n",
       "Boston Globe                    0.000169    0.000041    0.000146    0.000018   \n",
       "Chicago Tribune                 0.000059    0.000023    0.000088    0.000016   \n",
       "Des Moines Register             0.000000    0.000000    0.000000    0.000000   \n",
       "Foxnews.com                     0.000000    0.000000    0.000000    0.000000   \n",
       "LA Times                        0.000047    0.000027    0.000062    0.000023   \n",
       "NY Times                        0.000000    0.000099    0.000000    0.000000   \n",
       "Tampa Bay Times                 0.000029    0.000018    0.000009    0.000000   \n",
       "The Tampa Tribune               0.000000    0.000000    0.000000    0.000000   \n",
       "USA Today                       0.000020    0.000000    0.000060    0.000000   \n",
       "\n",
       "Date                          1994-12-31  1995-12-31  1996-12-31  1997-12-31  \\\n",
       "Source                                                                         \n",
       "Arizona Republic                0.000000    0.000000    0.000000    0.000000   \n",
       "Atlanta Journal-Constitution    0.000000    0.000000    0.000000    0.000142   \n",
       "Austin Statesman                0.000131    0.000050    0.000064    0.000091   \n",
       "Boston Globe                    0.000098    0.000067    0.000048    0.000540   \n",
       "Chicago Tribune                 0.000004    0.000020    0.000060    0.000153   \n",
       "Des Moines Register             0.000000    0.000000    0.000000    0.000000   \n",
       "Foxnews.com                     0.000000    0.000000    0.000000    0.000000   \n",
       "LA Times                        0.000012    0.000032    0.000052    0.000142   \n",
       "NY Times                        0.000000    0.000000    0.000007    0.000057   \n",
       "Tampa Bay Times                 0.000000    0.000027    0.000000    0.000000   \n",
       "The Tampa Tribune               0.000000    0.000000    0.000000    0.000007   \n",
       "USA Today                       0.000020    0.000042    0.000000    0.000225   \n",
       "\n",
       "Date                          1998-12-31  1999-12-31     ...      2006-12-31  \\\n",
       "Source                                                   ...                   \n",
       "Arizona Republic                0.000000    0.000000     ...        0.000122   \n",
       "Atlanta Journal-Constitution    0.000000    0.000007     ...        0.000134   \n",
       "Austin Statesman                0.000080    0.000034     ...        0.000131   \n",
       "Boston Globe                    0.000229    0.000225     ...        0.000422   \n",
       "Chicago Tribune                 0.000077    0.000063     ...        0.000120   \n",
       "Des Moines Register             0.000000    0.000144     ...        0.000266   \n",
       "Foxnews.com                     0.000000    0.000000     ...        0.000000   \n",
       "LA Times                        0.000107    0.000099     ...        0.000210   \n",
       "NY Times                        0.000134    0.000007     ...        0.000070   \n",
       "Tampa Bay Times                 0.000000    0.000011     ...        0.000045   \n",
       "The Tampa Tribune               0.000070    0.000050     ...        0.000051   \n",
       "USA Today                       0.000144    0.000036     ...        0.000328   \n",
       "\n",
       "Date                          2007-12-31  2008-12-31  2009-12-31  2010-12-31  \\\n",
       "Source                                                                         \n",
       "Arizona Republic                0.000244    0.000169    0.000047    0.000032   \n",
       "Atlanta Journal-Constitution    0.000278    0.000089    0.000052    0.000054   \n",
       "Austin Statesman                0.000740    0.000132    0.000183    0.000024   \n",
       "Boston Globe                    0.001032    0.000458    0.000845    0.000400   \n",
       "Chicago Tribune                 0.000534    0.000156    0.000540    0.000303   \n",
       "Des Moines Register             0.000340    0.000181    0.000285    0.000054   \n",
       "Foxnews.com                     0.000000    0.000000    0.000000    0.000021   \n",
       "LA Times                        0.000535    0.000323    0.000600    0.000279   \n",
       "NY Times                        0.000126    0.000060    0.000153    0.000000   \n",
       "Tampa Bay Times                 0.000152    0.000268    0.000089    0.000019   \n",
       "The Tampa Tribune               0.000075    0.000058    0.000000    0.000000   \n",
       "USA Today                       0.000455    0.000249    0.000322    0.000186   \n",
       "\n",
       "Date                          2011-12-31  2012-12-31  2013-12-31  2014-12-31  \\\n",
       "Source                                                                         \n",
       "Arizona Republic                0.000035    0.000069    0.000169    0.000181   \n",
       "Atlanta Journal-Constitution    0.000021    0.000011    0.000045    0.000367   \n",
       "Austin Statesman                0.000080    0.000077    0.000119    0.000107   \n",
       "Boston Globe                    0.000299    0.000763    0.000657    0.000856   \n",
       "Chicago Tribune                 0.000231    0.000249    0.000133    0.000575   \n",
       "Des Moines Register             0.000180    0.000142    0.000092    0.000869   \n",
       "Foxnews.com                     0.000020    0.000407    0.000088    0.000188   \n",
       "LA Times                        0.000403    0.000536    0.000487    0.000677   \n",
       "NY Times                        0.000258    0.000068    0.000306    0.001436   \n",
       "Tampa Bay Times                 0.000099    0.000012    0.000445    0.000602   \n",
       "The Tampa Tribune               0.000000    0.001007    0.000420    0.000824   \n",
       "USA Today                       0.000323    0.000423    0.001321    0.001502   \n",
       "\n",
       "Date                          2015-12-31  \n",
       "Source                                    \n",
       "Arizona Republic                0.000668  \n",
       "Atlanta Journal-Constitution    0.000516  \n",
       "Austin Statesman                0.000137  \n",
       "Boston Globe                    0.000933  \n",
       "Chicago Tribune                 0.000357  \n",
       "Des Moines Register             0.000702  \n",
       "Foxnews.com                     0.000111  \n",
       "LA Times                        0.000653  \n",
       "NY Times                        0.001309  \n",
       "Tampa Bay Times                 0.000384  \n",
       "The Tampa Tribune               0.000515  \n",
       "USA Today                       0.000846  \n",
       "\n",
       "[12 rows x 26 columns]"
      ]
     },
     "execution_count": 143,
     "metadata": {},
     "output_type": "execute_result"
    }
   ],
   "source": [
    "pivot.fillna(0, inplace=True)\n",
    "pivot"
   ]
  },
  {
   "cell_type": "code",
   "execution_count": 144,
   "metadata": {
    "collapsed": true
   },
   "outputs": [],
   "source": [
    "pivot.to_csv(\"/Users/meghajain/Desktop/freq_bysource.csv\")"
   ]
  },
  {
   "cell_type": "code",
   "execution_count": 61,
   "metadata": {
    "collapsed": false
   },
   "outputs": [
    {
     "data": {
      "text/plain": [
       "<matplotlib.legend.Legend at 0x12464ebe0>"
      ]
     },
     "execution_count": 61,
     "metadata": {},
     "output_type": "execute_result"
    },
    {
     "data": {
      "image/png": "[encoded data removed]",
      "text/plain": [
       "<matplotlib.figure.Figure at 0x12443ab00>"
      ]
     },
     "metadata": {},
     "output_type": "display_data"
    }
   ],
   "source": [
    "az = articles_bysourcedatedf[articles_bysourcedatedf['Source']=='Arizona Republic']\n",
    "plt.plot(az['Climate_Freq'])\n",
    "plt.plot(az['Warming_Freq'])\n",
    "plt.legend()"
   ]
  },
  {
   "cell_type": "code",
   "execution_count": 62,
   "metadata": {
    "collapsed": false
   },
   "outputs": [
    {
     "data": {
      "text/plain": [
       "<matplotlib.legend.Legend at 0x125558c18>"
      ]
     },
     "execution_count": 62,
     "metadata": {},
     "output_type": "execute_result"
    },
    {
     "data": {
      "image/png": "[encoded data removed]",
      "text/plain": [
       "<matplotlib.figure.Figure at 0x1254b3470>"
      ]
     },
     "metadata": {},
     "output_type": "display_data"
    }
   ],
   "source": [
    "la = articles_bysourcedatedf[articles_bysourcedatedf['Source']=='LA Times']\n",
    "plt.plot(la['Climate_Freq'])\n",
    "plt.plot(la['Warming_Freq'])\n",
    "plt.legend()"
   ]
  },
  {
   "cell_type": "code",
   "execution_count": 64,
   "metadata": {
    "collapsed": false
   },
   "outputs": [
    {
     "data": {
      "text/plain": [
       "<matplotlib.legend.Legend at 0x125620f98>"
      ]
     },
     "execution_count": 64,
     "metadata": {},
     "output_type": "execute_result"
    },
    {
     "data": {
      "image/png": "[encoded data removed]",
      "text/plain": [
       "<matplotlib.figure.Figure at 0x125560780>"
      ]
     },
     "metadata": {},
     "output_type": "display_data"
    }
   ],
   "source": [
    "atl = articles_bysourcedatedf[articles_bysourcedatedf['Source']=='Atlanta Journal-Constitution']\n",
    "plt.plot(atl['Climate_Freq'])\n",
    "plt.plot(atl['Warming_Freq'])\n",
    "plt.legend()"
   ]
  },
  {
   "cell_type": "code",
   "execution_count": 67,
   "metadata": {
    "collapsed": false
   },
   "outputs": [
    {
     "data": {
      "text/plain": [
       "<matplotlib.legend.Legend at 0x118e34978>"
      ]
     },
     "execution_count": 67,
     "metadata": {},
     "output_type": "execute_result"
    },
    {
     "data": {
      "image/png": "[encoded data removed]",
      "text/plain": [
       "<matplotlib.figure.Figure at 0x118f141d0>"
      ]
     },
     "metadata": {},
     "output_type": "display_data"
    }
   ],
   "source": [
    "tamp = articles_bysourcedatedf[articles_bysourcedatedf['Source']=='Tampa Bay Times']\n",
    "plt.plot(tamp['Climate_Freq'])\n",
    "plt.plot(tamp['Warming_Freq'])\n",
    "plt.legend()"
   ]
  },
  {
   "cell_type": "code",
   "execution_count": 68,
   "metadata": {
    "collapsed": false
   },
   "outputs": [
    {
     "data": {
      "text/plain": [
       "<matplotlib.legend.Legend at 0x118ea2a20>"
      ]
     },
     "execution_count": 68,
     "metadata": {},
     "output_type": "execute_result"
    },
    {
     "data": {
      "image/png": "[encoded data removed]",
      "text/plain": [
       "<matplotlib.figure.Figure at 0x1254b69e8>"
      ]
     },
     "metadata": {},
     "output_type": "display_data"
    }
   ],
   "source": [
    "iowa = articles_bysourcedatedf[articles_bysourcedatedf['Source']=='Des Moines Register']\n",
    "plt.plot(iowa['Climate_Freq'])\n",
    "plt.plot(iowa['Warming_Freq'])\n",
    "plt.legend()"
   ]
  },
  {
   "cell_type": "code",
   "execution_count": null,
   "metadata": {
    "collapsed": true
   },
   "outputs": [],
   "source": []
  }
 ],
 "metadata": {
  "anaconda-cloud": {},
  "kernelspec": {
   "display_name": "Python [Root]",
   "language": "python",
   "name": "Python [Root]"
  },
  "language_info": {
   "codemirror_mode": {
    "name": "ipython",
    "version": 3
   },
   "file_extension": ".py",
   "mimetype": "text/x-python",
   "name": "python",
   "nbconvert_exporter": "python",
   "pygments_lexer": "ipython3",
   "version": "3.5.1"
  }
 },
 "nbformat": 4,
 "nbformat_minor": 0
}
