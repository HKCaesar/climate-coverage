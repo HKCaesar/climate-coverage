{
 "cells": [
  {
   "cell_type": "code",
   "execution_count": 1,
   "metadata": {
    "collapsed": true
   },
   "outputs": [],
   "source": [
    "import pandas as pd"
   ]
  },
  {
   "cell_type": "markdown",
   "metadata": {},
   "source": [
    "### Load data from NOAA website"
   ]
  },
  {
   "cell_type": "code",
   "execution_count": 2,
   "metadata": {
    "collapsed": true
   },
   "outputs": [],
   "source": [
    "noaa_data = pd.read_csv('ftp://ftp.ncdc.noaa.gov/pub/data/swdi/stormevents/csvfiles/StormEvents_details-ftp_v1.0_d1990_c20160223.csv.gz', compression='gzip')"
   ]
  },
  {
   "cell_type": "code",
   "execution_count": 3,
   "metadata": {
    "collapsed": true
   },
   "outputs": [],
   "source": [
    "files = ['ftp://ftp.ncdc.noaa.gov/pub/data/swdi/stormevents/csvfiles/StormEvents_details-ftp_v1.0_d2011_c20160223.csv.gz',\n",
    "         'ftp://ftp.ncdc.noaa.gov/pub/data/swdi/stormevents/csvfiles/StormEvents_details-ftp_v1.0_d2012_c20160223.csv.gz',\n",
    "         'ftp://ftp.ncdc.noaa.gov/pub/data/swdi/stormevents/csvfiles/StormEvents_details-ftp_v1.0_d2013_c20160223.csv.gz',\n",
    "         'ftp://ftp.ncdc.noaa.gov/pub/data/swdi/stormevents/csvfiles/StormEvents_details-ftp_v1.0_d2014_c20161118.csv.gz',\n",
    "         'ftp://ftp.ncdc.noaa.gov/pub/data/swdi/stormevents/csvfiles/StormEvents_details-ftp_v1.0_d2015_c20161216.csv.gz',\n",
    "         'ftp://ftp.ncdc.noaa.gov/pub/data/swdi/stormevents/csvfiles/StormEvents_details-ftp_v1.0_d1991_c20160223.csv.gz',\n",
    "         'ftp://ftp.ncdc.noaa.gov/pub/data/swdi/stormevents/csvfiles/StormEvents_details-ftp_v1.0_d1992_c20160223.csv.gz',\n",
    "         'ftp://ftp.ncdc.noaa.gov/pub/data/swdi/stormevents/csvfiles/StormEvents_details-ftp_v1.0_d1993_c20160223.csv.gz',\n",
    "         'ftp://ftp.ncdc.noaa.gov/pub/data/swdi/stormevents/csvfiles/StormEvents_details-ftp_v1.0_d1994_c20160223.csv.gz',\n",
    "         'ftp://ftp.ncdc.noaa.gov/pub/data/swdi/stormevents/csvfiles/StormEvents_details-ftp_v1.0_d1995_c20160223.csv.gz',\n",
    "         'ftp://ftp.ncdc.noaa.gov/pub/data/swdi/stormevents/csvfiles/StormEvents_details-ftp_v1.0_d1996_c20160223.csv.gz',\n",
    "         'ftp://ftp.ncdc.noaa.gov/pub/data/swdi/stormevents/csvfiles/StormEvents_details-ftp_v1.0_d1997_c20160223.csv.gz',\n",
    "         'ftp://ftp.ncdc.noaa.gov/pub/data/swdi/stormevents/csvfiles/StormEvents_details-ftp_v1.0_d1998_c20160223.csv.gz',\n",
    "         'ftp://ftp.ncdc.noaa.gov/pub/data/swdi/stormevents/csvfiles/StormEvents_details-ftp_v1.0_d1999_c20160223.csv.gz',\n",
    "         'ftp://ftp.ncdc.noaa.gov/pub/data/swdi/stormevents/csvfiles/StormEvents_details-ftp_v1.0_d2000_c20160223.csv.gz',\n",
    "         'ftp://ftp.ncdc.noaa.gov/pub/data/swdi/stormevents/csvfiles/StormEvents_details-ftp_v1.0_d2001_c20160223.csv.gz',\n",
    "         'ftp://ftp.ncdc.noaa.gov/pub/data/swdi/stormevents/csvfiles/StormEvents_details-ftp_v1.0_d2002_c20160223.csv.gz',\n",
    "         'ftp://ftp.ncdc.noaa.gov/pub/data/swdi/stormevents/csvfiles/StormEvents_details-ftp_v1.0_d2003_c20160223.csv.gz',\n",
    "         'ftp://ftp.ncdc.noaa.gov/pub/data/swdi/stormevents/csvfiles/StormEvents_details-ftp_v1.0_d2004_c20160223.csv.gz',\n",
    "         'ftp://ftp.ncdc.noaa.gov/pub/data/swdi/stormevents/csvfiles/StormEvents_details-ftp_v1.0_d2005_c20160223.csv.gz',\n",
    "         'ftp://ftp.ncdc.noaa.gov/pub/data/swdi/stormevents/csvfiles/StormEvents_details-ftp_v1.0_d2006_c20161118.csv.gz',\n",
    "         'ftp://ftp.ncdc.noaa.gov/pub/data/swdi/stormevents/csvfiles/StormEvents_details-ftp_v1.0_d2007_c20160223.csv.gz',\n",
    "         'ftp://ftp.ncdc.noaa.gov/pub/data/swdi/stormevents/csvfiles/StormEvents_details-ftp_v1.0_d2008_c20160223.csv.gz',\n",
    "         'ftp://ftp.ncdc.noaa.gov/pub/data/swdi/stormevents/csvfiles/StormEvents_details-ftp_v1.0_d2009_c20160223.csv.gz',\n",
    "         'ftp://ftp.ncdc.noaa.gov/pub/data/swdi/stormevents/csvfiles/StormEvents_details-ftp_v1.0_d2010_c20160223.csv.gz'\n",
    "         ]"
   ]
  },
  {
   "cell_type": "code",
   "execution_count": 4,
   "metadata": {
    "collapsed": true
   },
   "outputs": [
    {
     "name": "stdout",
     "output_type": "stream",
     "text": [
      "ftp://ftp.ncdc.noaa.gov/pub/data/swdi/stormevents/csvfiles/StormEvents_details-ftp_v1.0_d2011_c20160223.csv.gz\n",
      "ftp://ftp.ncdc.noaa.gov/pub/data/swdi/stormevents/csvfiles/StormEvents_details-ftp_v1.0_d2012_c20160223.csv.gz\n",
      "ftp://ftp.ncdc.noaa.gov/pub/data/swdi/stormevents/csvfiles/StormEvents_details-ftp_v1.0_d2013_c20160223.csv.gz\n",
      "ftp://ftp.ncdc.noaa.gov/pub/data/swdi/stormevents/csvfiles/StormEvents_details-ftp_v1.0_d2014_c20161118.csv.gz\n",
      "ftp://ftp.ncdc.noaa.gov/pub/data/swdi/stormevents/csvfiles/StormEvents_details-ftp_v1.0_d2015_c20161216.csv.gz\n",
      "ftp://ftp.ncdc.noaa.gov/pub/data/swdi/stormevents/csvfiles/StormEvents_details-ftp_v1.0_d1991_c20160223.csv.gz\n",
      "ftp://ftp.ncdc.noaa.gov/pub/data/swdi/stormevents/csvfiles/StormEvents_details-ftp_v1.0_d1992_c20160223.csv.gz\n",
      "ftp://ftp.ncdc.noaa.gov/pub/data/swdi/stormevents/csvfiles/StormEvents_details-ftp_v1.0_d1993_c20160223.csv.gz\n",
      "ftp://ftp.ncdc.noaa.gov/pub/data/swdi/stormevents/csvfiles/StormEvents_details-ftp_v1.0_d1994_c20160223.csv.gz\n",
      "ftp://ftp.ncdc.noaa.gov/pub/data/swdi/stormevents/csvfiles/StormEvents_details-ftp_v1.0_d1995_c20160223.csv.gz\n",
      "ftp://ftp.ncdc.noaa.gov/pub/data/swdi/stormevents/csvfiles/StormEvents_details-ftp_v1.0_d1996_c20160223.csv.gz\n"
     ]
    },
    {
     "name": "stderr",
     "output_type": "stream",
     "text": [
      "/Users/meghajain/anaconda/lib/python3.5/site-packages/IPython/core/interactiveshell.py:2723: DtypeWarning: Columns (26,28) have mixed types. Specify dtype option on import or set low_memory=False.\n",
      "  interactivity=interactivity, compiler=compiler, result=result)\n"
     ]
    },
    {
     "name": "stdout",
     "output_type": "stream",
     "text": [
      "ftp://ftp.ncdc.noaa.gov/pub/data/swdi/stormevents/csvfiles/StormEvents_details-ftp_v1.0_d1997_c20160223.csv.gz\n"
     ]
    },
    {
     "name": "stderr",
     "output_type": "stream",
     "text": [
      "/Users/meghajain/anaconda/lib/python3.5/site-packages/IPython/core/interactiveshell.py:2723: DtypeWarning: Columns (28) have mixed types. Specify dtype option on import or set low_memory=False.\n",
      "  interactivity=interactivity, compiler=compiler, result=result)\n"
     ]
    },
    {
     "name": "stdout",
     "output_type": "stream",
     "text": [
      "ftp://ftp.ncdc.noaa.gov/pub/data/swdi/stormevents/csvfiles/StormEvents_details-ftp_v1.0_d1998_c20160223.csv.gz\n",
      "ftp://ftp.ncdc.noaa.gov/pub/data/swdi/stormevents/csvfiles/StormEvents_details-ftp_v1.0_d1999_c20160223.csv.gz\n",
      "ftp://ftp.ncdc.noaa.gov/pub/data/swdi/stormevents/csvfiles/StormEvents_details-ftp_v1.0_d2000_c20160223.csv.gz\n",
      "ftp://ftp.ncdc.noaa.gov/pub/data/swdi/stormevents/csvfiles/StormEvents_details-ftp_v1.0_d2001_c20160223.csv.gz\n",
      "ftp://ftp.ncdc.noaa.gov/pub/data/swdi/stormevents/csvfiles/StormEvents_details-ftp_v1.0_d2002_c20160223.csv.gz\n",
      "ftp://ftp.ncdc.noaa.gov/pub/data/swdi/stormevents/csvfiles/StormEvents_details-ftp_v1.0_d2003_c20160223.csv.gz\n",
      "ftp://ftp.ncdc.noaa.gov/pub/data/swdi/stormevents/csvfiles/StormEvents_details-ftp_v1.0_d2004_c20160223.csv.gz\n",
      "ftp://ftp.ncdc.noaa.gov/pub/data/swdi/stormevents/csvfiles/StormEvents_details-ftp_v1.0_d2005_c20160223.csv.gz\n",
      "ftp://ftp.ncdc.noaa.gov/pub/data/swdi/stormevents/csvfiles/StormEvents_details-ftp_v1.0_d2006_c20161118.csv.gz\n"
     ]
    },
    {
     "name": "stderr",
     "output_type": "stream",
     "text": [
      "/Users/meghajain/anaconda/lib/python3.5/site-packages/IPython/core/interactiveshell.py:2723: DtypeWarning: Columns (29,34,35,37) have mixed types. Specify dtype option on import or set low_memory=False.\n",
      "  interactivity=interactivity, compiler=compiler, result=result)\n"
     ]
    },
    {
     "name": "stdout",
     "output_type": "stream",
     "text": [
      "ftp://ftp.ncdc.noaa.gov/pub/data/swdi/stormevents/csvfiles/StormEvents_details-ftp_v1.0_d2007_c20160223.csv.gz\n",
      "ftp://ftp.ncdc.noaa.gov/pub/data/swdi/stormevents/csvfiles/StormEvents_details-ftp_v1.0_d2008_c20160223.csv.gz\n",
      "ftp://ftp.ncdc.noaa.gov/pub/data/swdi/stormevents/csvfiles/StormEvents_details-ftp_v1.0_d2009_c20160223.csv.gz\n",
      "ftp://ftp.ncdc.noaa.gov/pub/data/swdi/stormevents/csvfiles/StormEvents_details-ftp_v1.0_d2010_c20160223.csv.gz\n"
     ]
    }
   ],
   "source": [
    "for file in files:\n",
    "    print(file)\n",
    "    df = pd.read_csv(file, compression='gzip', encoding='latin-1')\n",
    "    noaa_data = pd.concat(objs=[df, noaa_data], ignore_index=True)"
   ]
  },
  {
   "cell_type": "code",
   "execution_count": 5,
   "metadata": {
    "collapsed": true
   },
   "outputs": [
    {
     "data": {
      "text/plain": [
       "array(['Heat', 'Heavy Snow', 'Strong Wind', 'Winter Storm', 'High Wind',\n",
       "       'Flash Flood', 'Flood', 'Hail', 'Thunderstorm Wind',\n",
       "       'Marine Thunderstorm Wind', 'Drought', 'Excessive Heat',\n",
       "       'Dense Fog', 'Lake-Effect Snow', 'Tornado', 'Winter Weather',\n",
       "       'Lightning', 'Frost/Freeze', 'Funnel Cloud', 'Blizzard',\n",
       "       'Ice Storm', 'Heavy Rain', 'Wildfire', 'Cold/Wind Chill',\n",
       "       'Extreme Cold/Wind Chill', 'Waterspout', 'Coastal Flood',\n",
       "       'Rip Current', 'Marine Strong Wind', 'High Surf', 'Marine Hail',\n",
       "       'Avalanche', 'Dust Storm', 'Landslide', 'Storm Surge/Tide',\n",
       "       'Tropical Storm', 'Tsunami', 'Freezing Fog', 'Sleet',\n",
       "       'Lakeshore Flood', 'Marine High Wind', 'Dust Devil',\n",
       "       'Astronomical Low Tide', 'Hurricane', 'Dense Smoke', 'Seiche',\n",
       "       'Tropical Depression', 'Volcanic Ashfall', 'Debris Flow',\n",
       "       'Volcanic Ash', 'Hurricane (Typhoon)', 'High Snow', 'Heavy Wind',\n",
       "       'OTHER', 'Northern Lights', 'HAIL FLOODING',\n",
       "       'THUNDERSTORM WINDS/FLASH FLOOD', 'THUNDERSTORM WINDS LIGHTNING',\n",
       "       'THUNDERSTORM WIND/ TREES', 'THUNDERSTORM WIND/ TREE',\n",
       "       'THUNDERSTORM WINDS FUNNEL CLOU', 'TORNADO/WATERSPOUT',\n",
       "       'THUNDERSTORM WINDS/HEAVY RAIN', 'THUNDERSTORM WINDS HEAVY RAIN',\n",
       "       'THUNDERSTORM WINDS/ FLOOD', 'THUNDERSTORM WINDS/FLOODING',\n",
       "       'HAIL/ICY ROADS', 'TORNADOES, TSTM WIND, HAIL', 'Marine Dense Fog',\n",
       "       'Sneakerwave', 'Marine Tropical Storm', 'Marine Lightning',\n",
       "       'Marine Hurricane/Typhoon'], dtype=object)"
      ]
     },
     "execution_count": 5,
     "metadata": {},
     "output_type": "execute_result"
    }
   ],
   "source": [
    "noaa_data['EVENT_TYPE'].unique()"
   ]
  },
  {
   "cell_type": "markdown",
   "metadata": {},
   "source": [
    "## Standardize fields\n",
    "#### Standardize event types in new column 'Related Events'\n",
    "Note that certain events weren't recorded for periods of time"
   ]
  },
  {
   "cell_type": "code",
   "execution_count": 6,
   "metadata": {
    "collapsed": false
   },
   "outputs": [],
   "source": [
    "import re\n",
    "hurricane = re.compile(r'hurricane', flags=re.IGNORECASE)\n",
    "flood = re.compile(r'flood', flags=re.IGNORECASE)\n",
    "drought = re.compile(r'drought', flags=re.IGNORECASE)\n",
    "tornado = re.compile(r'tornado', flags=re.IGNORECASE)\n",
    "superstorm = re.compile(r'superstorm', flags=re.IGNORECASE)"
   ]
  },
  {
   "cell_type": "code",
   "execution_count": 7,
   "metadata": {
    "collapsed": true
   },
   "outputs": [],
   "source": [
    "def find_event(event):\n",
    "    event = str(event)\n",
    "    if len(re.findall(hurricane, event)) > 0:\n",
    "        return 'Hurricane'\n",
    "    elif len(re.findall(flood, event)) > 0:\n",
    "        return 'Flooding'\n",
    "    elif len(re.findall(tornado, event)) > 0:\n",
    "        return 'Tornado'\n",
    "    if len(re.findall(drought, event)) > 0:\n",
    "        return 'Drought'\n",
    "    return 'None'\n",
    "\n",
    "def find_hurricane(event):\n",
    "    event=str(event)\n",
    "    if len(re.findall(hurricane, event)) > 0:\n",
    "        return 'Hurricane'\n",
    "    if len(re.findall(superstorm, event)) > 0:\n",
    "        return 'Hurricane'\n",
    "    else:\n",
    "        return 'None'"
   ]
  },
  {
   "cell_type": "code",
   "execution_count": 8,
   "metadata": {
    "collapsed": false
   },
   "outputs": [],
   "source": [
    "noaa_data['RELATED_EVENT'] = noaa_data['EVENT_TYPE'].apply(find_event) \n",
    "noaa_data.loc[noaa_data['RELATED_EVENT'] == 'None', 'RELATED_EVENT'] = noaa_data['EVENT_NARRATIVE'].apply(find_hurricane) "
   ]
  },
  {
   "cell_type": "code",
   "execution_count": 9,
   "metadata": {
    "collapsed": false
   },
   "outputs": [
    {
     "data": {
      "text/plain": [
       "array(['None', 'Flooding', 'Drought', 'Tornado', 'Hurricane'], dtype=object)"
      ]
     },
     "execution_count": 9,
     "metadata": {},
     "output_type": "execute_result"
    }
   ],
   "source": [
    "noaa_data['RELATED_EVENT'].unique()"
   ]
  },
  {
   "cell_type": "code",
   "execution_count": 10,
   "metadata": {
    "collapsed": true
   },
   "outputs": [],
   "source": [
    "#Removes unrelated events\n",
    "noaa_data = noaa_data[noaa_data['RELATED_EVENT'] != 'None']"
   ]
  },
  {
   "cell_type": "markdown",
   "metadata": {},
   "source": [
    "#### Standardize date"
   ]
  },
  {
   "cell_type": "code",
   "execution_count": 11,
   "metadata": {
    "collapsed": true
   },
   "outputs": [],
   "source": [
    "noaa_data['DATE'] = noaa_data['BEGIN_YEARMONTH'].apply(lambda x: pd.to_datetime(x, format='%Y%m'))"
   ]
  },
  {
   "cell_type": "code",
   "execution_count": 12,
   "metadata": {
    "collapsed": true
   },
   "outputs": [
    {
     "data": {
      "text/html": [
       "<div>\n",
       "<table border=\"1\" class=\"dataframe\">\n",
       "  <thead>\n",
       "    <tr style=\"text-align: right;\">\n",
       "      <th></th>\n",
       "      <th>BEGIN_YEARMONTH</th>\n",
       "      <th>BEGIN_DAY</th>\n",
       "      <th>BEGIN_TIME</th>\n",
       "      <th>END_YEARMONTH</th>\n",
       "      <th>END_DAY</th>\n",
       "      <th>END_TIME</th>\n",
       "      <th>EPISODE_ID</th>\n",
       "      <th>EVENT_ID</th>\n",
       "      <th>STATE</th>\n",
       "      <th>STATE_FIPS</th>\n",
       "      <th>...</th>\n",
       "      <th>END_LOCATION</th>\n",
       "      <th>BEGIN_LAT</th>\n",
       "      <th>BEGIN_LON</th>\n",
       "      <th>END_LAT</th>\n",
       "      <th>END_LON</th>\n",
       "      <th>EPISODE_NARRATIVE</th>\n",
       "      <th>EVENT_NARRATIVE</th>\n",
       "      <th>DATA_SOURCE</th>\n",
       "      <th>RELATED_EVENT</th>\n",
       "      <th>DATE</th>\n",
       "    </tr>\n",
       "  </thead>\n",
       "  <tbody>\n",
       "    <tr>\n",
       "      <th>8</th>\n",
       "      <td>201001</td>\n",
       "      <td>21</td>\n",
       "      <td>300</td>\n",
       "      <td>201001</td>\n",
       "      <td>21</td>\n",
       "      <td>600</td>\n",
       "      <td>36775.0</td>\n",
       "      <td>213816</td>\n",
       "      <td>FLORIDA</td>\n",
       "      <td>12.0</td>\n",
       "      <td>...</td>\n",
       "      <td>SOUTH FLOMATON</td>\n",
       "      <td>30.9958</td>\n",
       "      <td>-87.2388</td>\n",
       "      <td>30.9901</td>\n",
       "      <td>-87.2318</td>\n",
       "      <td>On the evening of January 20th, a warm front w...</td>\n",
       "      <td>Carnley Road near Century, Florida closed due ...</td>\n",
       "      <td>CSV</td>\n",
       "      <td>Flooding</td>\n",
       "      <td>2010-01-01</td>\n",
       "    </tr>\n",
       "    <tr>\n",
       "      <th>9</th>\n",
       "      <td>201003</td>\n",
       "      <td>11</td>\n",
       "      <td>1816</td>\n",
       "      <td>201003</td>\n",
       "      <td>16</td>\n",
       "      <td>830</td>\n",
       "      <td>36906.0</td>\n",
       "      <td>214762</td>\n",
       "      <td>IOWA</td>\n",
       "      <td>19.0</td>\n",
       "      <td>...</td>\n",
       "      <td>PARKERSBURG</td>\n",
       "      <td>42.5589</td>\n",
       "      <td>-92.5583</td>\n",
       "      <td>42.5886</td>\n",
       "      <td>-92.7608</td>\n",
       "      <td>Iowa enjoyed a welcomed period of dry weather ...</td>\n",
       "      <td>NaN</td>\n",
       "      <td>CSV</td>\n",
       "      <td>Flooding</td>\n",
       "      <td>2010-03-01</td>\n",
       "    </tr>\n",
       "    <tr>\n",
       "      <th>34</th>\n",
       "      <td>201010</td>\n",
       "      <td>1</td>\n",
       "      <td>0</td>\n",
       "      <td>201010</td>\n",
       "      <td>31</td>\n",
       "      <td>2359</td>\n",
       "      <td>45579.0</td>\n",
       "      <td>266281</td>\n",
       "      <td>INDIANA</td>\n",
       "      <td>18.0</td>\n",
       "      <td>...</td>\n",
       "      <td>NaN</td>\n",
       "      <td>NaN</td>\n",
       "      <td>NaN</td>\n",
       "      <td>NaN</td>\n",
       "      <td>NaN</td>\n",
       "      <td>October 2010 continued the trend of warmer and...</td>\n",
       "      <td>On October 19th, the U.S. Drought Monitor plac...</td>\n",
       "      <td>CSV</td>\n",
       "      <td>Drought</td>\n",
       "      <td>2010-10-01</td>\n",
       "    </tr>\n",
       "    <tr>\n",
       "      <th>35</th>\n",
       "      <td>201010</td>\n",
       "      <td>1</td>\n",
       "      <td>0</td>\n",
       "      <td>201010</td>\n",
       "      <td>31</td>\n",
       "      <td>2359</td>\n",
       "      <td>45579.0</td>\n",
       "      <td>266283</td>\n",
       "      <td>INDIANA</td>\n",
       "      <td>18.0</td>\n",
       "      <td>...</td>\n",
       "      <td>NaN</td>\n",
       "      <td>NaN</td>\n",
       "      <td>NaN</td>\n",
       "      <td>NaN</td>\n",
       "      <td>NaN</td>\n",
       "      <td>October 2010 continued the trend of warmer and...</td>\n",
       "      <td>On October 12th, the U.S. Drought Monitor plac...</td>\n",
       "      <td>CSV</td>\n",
       "      <td>Drought</td>\n",
       "      <td>2010-10-01</td>\n",
       "    </tr>\n",
       "    <tr>\n",
       "      <th>36</th>\n",
       "      <td>201010</td>\n",
       "      <td>1</td>\n",
       "      <td>0</td>\n",
       "      <td>201010</td>\n",
       "      <td>31</td>\n",
       "      <td>2359</td>\n",
       "      <td>45579.0</td>\n",
       "      <td>266284</td>\n",
       "      <td>INDIANA</td>\n",
       "      <td>18.0</td>\n",
       "      <td>...</td>\n",
       "      <td>NaN</td>\n",
       "      <td>NaN</td>\n",
       "      <td>NaN</td>\n",
       "      <td>NaN</td>\n",
       "      <td>NaN</td>\n",
       "      <td>October 2010 continued the trend of warmer and...</td>\n",
       "      <td>On October 12th, the U.S. Drought Monitor plac...</td>\n",
       "      <td>CSV</td>\n",
       "      <td>Drought</td>\n",
       "      <td>2010-10-01</td>\n",
       "    </tr>\n",
       "  </tbody>\n",
       "</table>\n",
       "<p>5 rows × 53 columns</p>\n",
       "</div>"
      ],
      "text/plain": [
       "    BEGIN_YEARMONTH  BEGIN_DAY  BEGIN_TIME  END_YEARMONTH  END_DAY  END_TIME  \\\n",
       "8            201001         21         300         201001       21       600   \n",
       "9            201003         11        1816         201003       16       830   \n",
       "34           201010          1           0         201010       31      2359   \n",
       "35           201010          1           0         201010       31      2359   \n",
       "36           201010          1           0         201010       31      2359   \n",
       "\n",
       "    EPISODE_ID  EVENT_ID    STATE  STATE_FIPS    ...        END_LOCATION  \\\n",
       "8      36775.0    213816  FLORIDA        12.0    ...      SOUTH FLOMATON   \n",
       "9      36906.0    214762     IOWA        19.0    ...         PARKERSBURG   \n",
       "34     45579.0    266281  INDIANA        18.0    ...                 NaN   \n",
       "35     45579.0    266283  INDIANA        18.0    ...                 NaN   \n",
       "36     45579.0    266284  INDIANA        18.0    ...                 NaN   \n",
       "\n",
       "   BEGIN_LAT BEGIN_LON  END_LAT  END_LON  \\\n",
       "8    30.9958  -87.2388  30.9901 -87.2318   \n",
       "9    42.5589  -92.5583  42.5886 -92.7608   \n",
       "34       NaN       NaN      NaN      NaN   \n",
       "35       NaN       NaN      NaN      NaN   \n",
       "36       NaN       NaN      NaN      NaN   \n",
       "\n",
       "                                    EPISODE_NARRATIVE  \\\n",
       "8   On the evening of January 20th, a warm front w...   \n",
       "9   Iowa enjoyed a welcomed period of dry weather ...   \n",
       "34  October 2010 continued the trend of warmer and...   \n",
       "35  October 2010 continued the trend of warmer and...   \n",
       "36  October 2010 continued the trend of warmer and...   \n",
       "\n",
       "                                      EVENT_NARRATIVE DATA_SOURCE  \\\n",
       "8   Carnley Road near Century, Florida closed due ...         CSV   \n",
       "9                                                 NaN         CSV   \n",
       "34  On October 19th, the U.S. Drought Monitor plac...         CSV   \n",
       "35  On October 12th, the U.S. Drought Monitor plac...         CSV   \n",
       "36  On October 12th, the U.S. Drought Monitor plac...         CSV   \n",
       "\n",
       "   RELATED_EVENT       DATE  \n",
       "8       Flooding 2010-01-01  \n",
       "9       Flooding 2010-03-01  \n",
       "34       Drought 2010-10-01  \n",
       "35       Drought 2010-10-01  \n",
       "36       Drought 2010-10-01  \n",
       "\n",
       "[5 rows x 53 columns]"
      ]
     },
     "execution_count": 12,
     "metadata": {},
     "output_type": "execute_result"
    }
   ],
   "source": [
    "noaa_data.head()"
   ]
  },
  {
   "cell_type": "markdown",
   "metadata": {},
   "source": [
    "## Create final dataframe, grouping by event type, state, and year"
   ]
  },
  {
   "cell_type": "code",
   "execution_count": 13,
   "metadata": {
    "collapsed": false
   },
   "outputs": [],
   "source": [
    "final_data = noaa_data[['RELATED_EVENT', 'DATE', 'STATE', 'BEGIN_LAT', 'BEGIN_LON']]"
   ]
  },
  {
   "cell_type": "code",
   "execution_count": 14,
   "metadata": {
    "collapsed": true
   },
   "outputs": [],
   "source": [
    "final_data.set_index(keys=['DATE'], inplace=True)"
   ]
  },
  {
   "cell_type": "code",
   "execution_count": 15,
   "metadata": {
    "collapsed": true
   },
   "outputs": [],
   "source": [
    "final_data_grouped = final_data.groupby(by=['RELATED_EVENT', 'STATE', pd.TimeGrouper('A')])"
   ]
  },
  {
   "cell_type": "code",
   "execution_count": 16,
   "metadata": {
    "collapsed": false
   },
   "outputs": [],
   "source": [
    "noaa_df = pd.DataFrame({'NUM_EVENTS': final_data_grouped.size()}).reset_index()"
   ]
  },
  {
   "cell_type": "code",
   "execution_count": 17,
   "metadata": {
    "collapsed": true
   },
   "outputs": [
    {
     "data": {
      "text/html": [
       "<div>\n",
       "<table border=\"1\" class=\"dataframe\">\n",
       "  <thead>\n",
       "    <tr style=\"text-align: right;\">\n",
       "      <th></th>\n",
       "      <th>RELATED_EVENT</th>\n",
       "      <th>STATE</th>\n",
       "      <th>DATE</th>\n",
       "      <th>NUM_EVENTS</th>\n",
       "    </tr>\n",
       "  </thead>\n",
       "  <tbody>\n",
       "    <tr>\n",
       "      <th>0</th>\n",
       "      <td>Drought</td>\n",
       "      <td>ALABAMA</td>\n",
       "      <td>1998-12-31</td>\n",
       "      <td>2</td>\n",
       "    </tr>\n",
       "    <tr>\n",
       "      <th>1</th>\n",
       "      <td>Drought</td>\n",
       "      <td>ALABAMA</td>\n",
       "      <td>1999-12-31</td>\n",
       "      <td>6</td>\n",
       "    </tr>\n",
       "    <tr>\n",
       "      <th>2</th>\n",
       "      <td>Drought</td>\n",
       "      <td>ALABAMA</td>\n",
       "      <td>2000-12-31</td>\n",
       "      <td>6</td>\n",
       "    </tr>\n",
       "    <tr>\n",
       "      <th>3</th>\n",
       "      <td>Drought</td>\n",
       "      <td>ALABAMA</td>\n",
       "      <td>2004-12-31</td>\n",
       "      <td>2</td>\n",
       "    </tr>\n",
       "    <tr>\n",
       "      <th>4</th>\n",
       "      <td>Drought</td>\n",
       "      <td>ALABAMA</td>\n",
       "      <td>2006-12-31</td>\n",
       "      <td>112</td>\n",
       "    </tr>\n",
       "  </tbody>\n",
       "</table>\n",
       "</div>"
      ],
      "text/plain": [
       "  RELATED_EVENT    STATE       DATE  NUM_EVENTS\n",
       "0       Drought  ALABAMA 1998-12-31           2\n",
       "1       Drought  ALABAMA 1999-12-31           6\n",
       "2       Drought  ALABAMA 2000-12-31           6\n",
       "3       Drought  ALABAMA 2004-12-31           2\n",
       "4       Drought  ALABAMA 2006-12-31         112"
      ]
     },
     "execution_count": 17,
     "metadata": {},
     "output_type": "execute_result"
    }
   ],
   "source": [
    "noaa_df.head()"
   ]
  },
  {
   "cell_type": "code",
   "execution_count": 18,
   "metadata": {
    "collapsed": true
   },
   "outputs": [],
   "source": [
    "noaa_df.set_index(keys=['DATE'], inplace=True)"
   ]
  },
  {
   "cell_type": "markdown",
   "metadata": {},
   "source": [
    "#### Separate out by event type and plot changes"
   ]
  },
  {
   "cell_type": "code",
   "execution_count": 19,
   "metadata": {
    "collapsed": true
   },
   "outputs": [],
   "source": [
    "import matplotlib.pyplot as plt\n",
    "%matplotlib inline"
   ]
  },
  {
   "cell_type": "markdown",
   "metadata": {},
   "source": [
    "#### Droughts"
   ]
  },
  {
   "cell_type": "code",
   "execution_count": 22,
   "metadata": {
    "collapsed": true
   },
   "outputs": [],
   "source": [
    "noaa_df_drought = noaa_df[noaa_df['RELATED_EVENT'] == 'Drought']"
   ]
  },
  {
   "cell_type": "code",
   "execution_count": 23,
   "metadata": {
    "collapsed": false
   },
   "outputs": [
    {
     "data": {
      "text/plain": [
       "array(['ALABAMA', 'ALASKA', 'AMERICAN SAMOA', 'ARIZONA', 'ARKANSAS',\n",
       "       'CALIFORNIA', 'COLORADO', 'CONNECTICUT', 'DELAWARE',\n",
       "       'DISTRICT OF COLUMBIA', 'FLORIDA', 'GEORGIA', 'GUAM', 'HAWAII',\n",
       "       'IDAHO', 'ILLINOIS', 'INDIANA', 'IOWA', 'KANSAS', 'KENTUCKY',\n",
       "       'LOUISIANA', 'MAINE', 'MARYLAND', 'MASSACHUSETTS', 'MICHIGAN',\n",
       "       'MINNESOTA', 'MISSISSIPPI', 'MISSOURI', 'MONTANA', 'NEBRASKA',\n",
       "       'NEW HAMPSHIRE', 'NEW JERSEY', 'NEW MEXICO', 'NEW YORK',\n",
       "       'NORTH CAROLINA', 'NORTH DAKOTA', 'OHIO', 'OKLAHOMA', 'OREGON',\n",
       "       'PENNSYLVANIA', 'PUERTO RICO', 'RHODE ISLAND', 'SOUTH CAROLINA',\n",
       "       'SOUTH DAKOTA', 'TENNESSEE', 'TEXAS', 'UTAH', 'VERMONT',\n",
       "       'VIRGIN ISLANDS', 'VIRGINIA', 'WASHINGTON', 'WEST VIRGINIA',\n",
       "       'WISCONSIN'], dtype=object)"
      ]
     },
     "execution_count": 23,
     "metadata": {},
     "output_type": "execute_result"
    }
   ],
   "source": [
    "noaa_df_drought['STATE'].unique()"
   ]
  },
  {
   "cell_type": "code",
   "execution_count": 25,
   "metadata": {
    "collapsed": true
   },
   "outputs": [],
   "source": [
    "noaa_df_state_drought = noaa_df_drought[noaa_df_drought['STATE'] == 'CALIFORNIA']"
   ]
  },
  {
   "cell_type": "code",
   "execution_count": 26,
   "metadata": {
    "collapsed": false
   },
   "outputs": [
    {
     "data": {
      "text/plain": [
       "[<matplotlib.lines.Line2D at 0x11d6bff98>]"
      ]
     },
     "execution_count": 26,
     "metadata": {},
     "output_type": "execute_result"
    },
    {
     "data": {
      "image/png": "[encoded data removed]",
      "text/plain": [
       "<matplotlib.figure.Figure at 0x11d725fd0>"
      ]
     },
     "metadata": {},
     "output_type": "display_data"
    }
   ],
   "source": [
    "plt.plot(noaa_df_state_drought['NUM_EVENTS'])"
   ]
  },
  {
   "cell_type": "markdown",
   "metadata": {},
   "source": [
    "#### Hurricanes"
   ]
  },
  {
   "cell_type": "code",
   "execution_count": 27,
   "metadata": {
    "collapsed": false
   },
   "outputs": [],
   "source": [
    "noaa_df_hurricane = noaa_df[noaa_df['RELATED_EVENT'] == 'Hurricane']"
   ]
  },
  {
   "cell_type": "code",
   "execution_count": 28,
   "metadata": {
    "collapsed": false
   },
   "outputs": [
    {
     "data": {
      "text/plain": [
       "array(['ALABAMA', 'ALASKA', 'AMERICAN SAMOA', 'ARIZONA', 'ARKANSAS',\n",
       "       'ATLANTIC SOUTH', 'CALIFORNIA', 'COLORADO', 'CONNECTICUT',\n",
       "       'DELAWARE', 'FLORIDA', 'GEORGIA', 'GUAM', 'GULF OF MEXICO', 'IDAHO',\n",
       "       'ILLINOIS', 'INDIANA', 'IOWA', 'KANSAS', 'KENTUCKY', 'LOUISIANA',\n",
       "       'MAINE', 'MARYLAND', 'MASSACHUSETTS', 'MINNESOTA', 'MISSISSIPPI',\n",
       "       'MISSOURI', 'MONTANA', 'NEVADA', 'NEW HAMPSHIRE', 'NEW JERSEY',\n",
       "       'NEW MEXICO', 'NEW YORK', 'NORTH CAROLINA', 'NORTH DAKOTA', 'OHIO',\n",
       "       'PENNSYLVANIA', 'PUERTO RICO', 'RHODE ISLAND', 'SOUTH CAROLINA',\n",
       "       'TENNESSEE', 'TEXAS', 'UTAH', 'VIRGIN ISLANDS', 'VIRGINIA',\n",
       "       'WASHINGTON', 'WEST VIRGINIA', 'WISCONSIN', 'WYOMING'], dtype=object)"
      ]
     },
     "execution_count": 28,
     "metadata": {},
     "output_type": "execute_result"
    }
   ],
   "source": [
    "noaa_df_hurricane['STATE'].unique()"
   ]
  },
  {
   "cell_type": "code",
   "execution_count": 29,
   "metadata": {
    "collapsed": true
   },
   "outputs": [],
   "source": [
    "noaa_df_state_hurricane = noaa_df_hurricane[noaa_df_hurricane['STATE'] == 'FLORIDA']"
   ]
  },
  {
   "cell_type": "code",
   "execution_count": 30,
   "metadata": {
    "collapsed": false
   },
   "outputs": [
    {
     "data": {
      "text/plain": [
       "[<matplotlib.lines.Line2D at 0x117bc04e0>]"
      ]
     },
     "execution_count": 30,
     "metadata": {},
     "output_type": "execute_result"
    },
    {
     "data": {
      "image/png": "[encoded data removed]",
      "text/plain": [
       "<matplotlib.figure.Figure at 0x11d6a1080>"
      ]
     },
     "metadata": {},
     "output_type": "display_data"
    }
   ],
   "source": [
    "plt.plot(noaa_df_state_hurricane['NUM_EVENTS'])"
   ]
  },
  {
   "cell_type": "markdown",
   "metadata": {
    "collapsed": true
   },
   "source": [
    "#### Tornadoes"
   ]
  },
  {
   "cell_type": "code",
   "execution_count": 31,
   "metadata": {
    "collapsed": true
   },
   "outputs": [],
   "source": [
    "noaa_df_tornado = noaa_df[noaa_df['RELATED_EVENT'] == 'Tornado']"
   ]
  },
  {
   "cell_type": "code",
   "execution_count": 32,
   "metadata": {
    "collapsed": false
   },
   "outputs": [
    {
     "data": {
      "text/plain": [
       "array(['ALABAMA', 'ALASKA', 'ARIZONA', 'ARKANSAS', 'CALIFORNIA',\n",
       "       'COLORADO', 'CONNECTICUT', 'DELAWARE', 'DISTRICT OF COLUMBIA',\n",
       "       'FLORIDA', 'GEORGIA', 'HAWAII', 'IDAHO', 'ILLINOIS', 'INDIANA',\n",
       "       'IOWA', 'KANSAS', 'KENTUCKY', 'LOUISIANA', 'MAINE', 'MARYLAND',\n",
       "       'MASSACHUSETTS', 'MICHIGAN', 'MINNESOTA', 'MISSISSIPPI', 'MISSOURI',\n",
       "       'MONTANA', 'NEBRASKA', 'NEVADA', 'NEW HAMPSHIRE', 'NEW JERSEY',\n",
       "       'NEW MEXICO', 'NEW YORK', 'NORTH CAROLINA', 'NORTH DAKOTA', 'OHIO',\n",
       "       'OKLAHOMA', 'OREGON', 'PENNSYLVANIA', 'PUERTO RICO', 'RHODE ISLAND',\n",
       "       'SOUTH CAROLINA', 'SOUTH DAKOTA', 'TENNESSEE', 'TEXAS', 'UTAH',\n",
       "       'VERMONT', 'VIRGINIA', 'WASHINGTON', 'WEST VIRGINIA', 'WISCONSIN',\n",
       "       'WYOMING'], dtype=object)"
      ]
     },
     "execution_count": 32,
     "metadata": {},
     "output_type": "execute_result"
    }
   ],
   "source": [
    "noaa_df_tornado['STATE'].unique()"
   ]
  },
  {
   "cell_type": "code",
   "execution_count": 33,
   "metadata": {
    "collapsed": false
   },
   "outputs": [],
   "source": [
    "noaa_df_state_tornado = noaa_df_tornado[noaa_df_tornado['STATE'] == 'ARIZONA']"
   ]
  },
  {
   "cell_type": "code",
   "execution_count": 34,
   "metadata": {
    "collapsed": false
   },
   "outputs": [
    {
     "data": {
      "text/plain": [
       "[<matplotlib.lines.Line2D at 0x1209dc9e8>]"
      ]
     },
     "execution_count": 34,
     "metadata": {},
     "output_type": "execute_result"
    },
    {
     "data": {
      "image/png": "[encoded data removed]",
      "text/plain": [
       "<matplotlib.figure.Figure at 0x1209f8f98>"
      ]
     },
     "metadata": {},
     "output_type": "display_data"
    }
   ],
   "source": [
    "plt.plot(noaa_df_state_tornado['NUM_EVENTS'])"
   ]
  },
  {
   "cell_type": "markdown",
   "metadata": {
    "collapsed": true
   },
   "source": [
    "#### Flooding"
   ]
  },
  {
   "cell_type": "code",
   "execution_count": 35,
   "metadata": {
    "collapsed": true
   },
   "outputs": [],
   "source": [
    "noaa_df_flooding = noaa_df[noaa_df['RELATED_EVENT'] == 'Flooding']"
   ]
  },
  {
   "cell_type": "code",
   "execution_count": 36,
   "metadata": {
    "collapsed": false
   },
   "outputs": [
    {
     "data": {
      "text/plain": [
       "array(['ALABAMA', 'ALASKA', 'AMERICAN SAMOA', 'ARIZONA', 'ARKANSAS',\n",
       "       'CALIFORNIA', 'COLORADO', 'CONNECTICUT', 'DELAWARE',\n",
       "       'DISTRICT OF COLUMBIA', 'FLORIDA', 'GEORGIA', 'GUAM', 'HAWAII',\n",
       "       'IDAHO', 'ILLINOIS', 'INDIANA', 'IOWA', 'KANSAS', 'KENTUCKY',\n",
       "       'LOUISIANA', 'MAINE', 'MARYLAND', 'MASSACHUSETTS', 'MICHIGAN',\n",
       "       'MINNESOTA', 'MISSISSIPPI', 'MISSOURI', 'MONTANA', 'NEBRASKA',\n",
       "       'NEVADA', 'NEW HAMPSHIRE', 'NEW JERSEY', 'NEW MEXICO', 'NEW YORK',\n",
       "       'NORTH CAROLINA', 'NORTH DAKOTA', 'OHIO', 'OKLAHOMA', 'OREGON',\n",
       "       'PENNSYLVANIA', 'PUERTO RICO', 'RHODE ISLAND', 'SOUTH CAROLINA',\n",
       "       'SOUTH DAKOTA', 'TENNESSEE', 'TEXAS', 'UTAH', 'VERMONT',\n",
       "       'VIRGIN ISLANDS', 'VIRGINIA', 'WASHINGTON', 'WEST VIRGINIA',\n",
       "       'WISCONSIN', 'WYOMING'], dtype=object)"
      ]
     },
     "execution_count": 36,
     "metadata": {},
     "output_type": "execute_result"
    }
   ],
   "source": [
    "noaa_df_flooding['STATE'].unique()"
   ]
  },
  {
   "cell_type": "code",
   "execution_count": 37,
   "metadata": {
    "collapsed": false
   },
   "outputs": [
    {
     "data": {
      "text/plain": [
       "[<matplotlib.lines.Line2D at 0x11e943eb8>]"
      ]
     },
     "execution_count": 37,
     "metadata": {},
     "output_type": "execute_result"
    },
    {
     "data": {
      "image/png": "[encoded data removed]",
      "text/plain": [
       "<matplotlib.figure.Figure at 0x117b0eba8>"
      ]
     },
     "metadata": {},
     "output_type": "display_data"
    }
   ],
   "source": [
    "noaa_df_state_flooding = noaa_df_flooding[noaa_df_flooding['STATE'] == 'TEXAS']\n",
    "plt.plot(noaa_df_state_flooding['NUM_EVENTS'])"
   ]
  },
  {
   "cell_type": "code",
   "execution_count": null,
   "metadata": {
    "collapsed": true
   },
   "outputs": [],
   "source": []
  },
  {
   "cell_type": "markdown",
   "metadata": {},
   "source": [
    "## Data for viz"
   ]
  },
  {
   "cell_type": "code",
   "execution_count": 38,
   "metadata": {
    "collapsed": false
   },
   "outputs": [
    {
     "data": {
      "text/html": [
       "<div>\n",
       "<table border=\"1\" class=\"dataframe\">\n",
       "  <thead>\n",
       "    <tr style=\"text-align: right;\">\n",
       "      <th></th>\n",
       "      <th>RELATED_EVENT</th>\n",
       "      <th>STATE</th>\n",
       "      <th>NUM_EVENTS</th>\n",
       "    </tr>\n",
       "    <tr>\n",
       "      <th>DATE</th>\n",
       "      <th></th>\n",
       "      <th></th>\n",
       "      <th></th>\n",
       "    </tr>\n",
       "  </thead>\n",
       "  <tbody>\n",
       "    <tr>\n",
       "      <th>1998-12-31</th>\n",
       "      <td>Drought</td>\n",
       "      <td>ALABAMA</td>\n",
       "      <td>2</td>\n",
       "    </tr>\n",
       "    <tr>\n",
       "      <th>1999-12-31</th>\n",
       "      <td>Drought</td>\n",
       "      <td>ALABAMA</td>\n",
       "      <td>6</td>\n",
       "    </tr>\n",
       "    <tr>\n",
       "      <th>2000-12-31</th>\n",
       "      <td>Drought</td>\n",
       "      <td>ALABAMA</td>\n",
       "      <td>6</td>\n",
       "    </tr>\n",
       "    <tr>\n",
       "      <th>2004-12-31</th>\n",
       "      <td>Drought</td>\n",
       "      <td>ALABAMA</td>\n",
       "      <td>2</td>\n",
       "    </tr>\n",
       "    <tr>\n",
       "      <th>2006-12-31</th>\n",
       "      <td>Drought</td>\n",
       "      <td>ALABAMA</td>\n",
       "      <td>112</td>\n",
       "    </tr>\n",
       "  </tbody>\n",
       "</table>\n",
       "</div>"
      ],
      "text/plain": [
       "           RELATED_EVENT    STATE  NUM_EVENTS\n",
       "DATE                                         \n",
       "1998-12-31       Drought  ALABAMA           2\n",
       "1999-12-31       Drought  ALABAMA           6\n",
       "2000-12-31       Drought  ALABAMA           6\n",
       "2004-12-31       Drought  ALABAMA           2\n",
       "2006-12-31       Drought  ALABAMA         112"
      ]
     },
     "execution_count": 38,
     "metadata": {},
     "output_type": "execute_result"
    }
   ],
   "source": [
    "noaa_df.head()"
   ]
  },
  {
   "cell_type": "code",
   "execution_count": 39,
   "metadata": {
    "collapsed": false
   },
   "outputs": [],
   "source": [
    "data_viz = noaa_df.reset_index()"
   ]
  },
  {
   "cell_type": "code",
   "execution_count": 40,
   "metadata": {
    "collapsed": false
   },
   "outputs": [
    {
     "data": {
      "text/html": [
       "<div>\n",
       "<table border=\"1\" class=\"dataframe\">\n",
       "  <thead>\n",
       "    <tr style=\"text-align: right;\">\n",
       "      <th></th>\n",
       "      <th>DATE</th>\n",
       "      <th>RELATED_EVENT</th>\n",
       "      <th>STATE</th>\n",
       "      <th>NUM_EVENTS</th>\n",
       "    </tr>\n",
       "  </thead>\n",
       "  <tbody>\n",
       "    <tr>\n",
       "      <th>0</th>\n",
       "      <td>1998-12-31</td>\n",
       "      <td>Drought</td>\n",
       "      <td>ALABAMA</td>\n",
       "      <td>2</td>\n",
       "    </tr>\n",
       "    <tr>\n",
       "      <th>1</th>\n",
       "      <td>1999-12-31</td>\n",
       "      <td>Drought</td>\n",
       "      <td>ALABAMA</td>\n",
       "      <td>6</td>\n",
       "    </tr>\n",
       "    <tr>\n",
       "      <th>2</th>\n",
       "      <td>2000-12-31</td>\n",
       "      <td>Drought</td>\n",
       "      <td>ALABAMA</td>\n",
       "      <td>6</td>\n",
       "    </tr>\n",
       "    <tr>\n",
       "      <th>3</th>\n",
       "      <td>2004-12-31</td>\n",
       "      <td>Drought</td>\n",
       "      <td>ALABAMA</td>\n",
       "      <td>2</td>\n",
       "    </tr>\n",
       "    <tr>\n",
       "      <th>4</th>\n",
       "      <td>2006-12-31</td>\n",
       "      <td>Drought</td>\n",
       "      <td>ALABAMA</td>\n",
       "      <td>112</td>\n",
       "    </tr>\n",
       "  </tbody>\n",
       "</table>\n",
       "</div>"
      ],
      "text/plain": [
       "        DATE RELATED_EVENT    STATE  NUM_EVENTS\n",
       "0 1998-12-31       Drought  ALABAMA           2\n",
       "1 1999-12-31       Drought  ALABAMA           6\n",
       "2 2000-12-31       Drought  ALABAMA           6\n",
       "3 2004-12-31       Drought  ALABAMA           2\n",
       "4 2006-12-31       Drought  ALABAMA         112"
      ]
     },
     "execution_count": 40,
     "metadata": {},
     "output_type": "execute_result"
    }
   ],
   "source": [
    "data_viz.head()"
   ]
  },
  {
   "cell_type": "markdown",
   "metadata": {},
   "source": [
    "#### Create pivot table of df to fill in 0 for missing years for each state"
   ]
  },
  {
   "cell_type": "code",
   "execution_count": 41,
   "metadata": {
    "collapsed": true
   },
   "outputs": [],
   "source": [
    "table = pd.pivot_table(data_viz, index=['RELATED_EVENT', \"STATE\"], columns = \"DATE\", values=\"NUM_EVENTS\")"
   ]
  },
  {
   "cell_type": "code",
   "execution_count": 42,
   "metadata": {
    "collapsed": false
   },
   "outputs": [
    {
     "data": {
      "text/html": [
       "<div>\n",
       "<table border=\"1\" class=\"dataframe\">\n",
       "  <thead>\n",
       "    <tr style=\"text-align: right;\">\n",
       "      <th></th>\n",
       "      <th>DATE</th>\n",
       "      <th>1990-12-31 00:00:00</th>\n",
       "      <th>1991-12-31 00:00:00</th>\n",
       "      <th>1992-12-31 00:00:00</th>\n",
       "      <th>1993-12-31 00:00:00</th>\n",
       "      <th>1994-12-31 00:00:00</th>\n",
       "      <th>1995-12-31 00:00:00</th>\n",
       "      <th>1996-12-31 00:00:00</th>\n",
       "      <th>1997-12-31 00:00:00</th>\n",
       "      <th>1998-12-31 00:00:00</th>\n",
       "      <th>1999-12-31 00:00:00</th>\n",
       "      <th>...</th>\n",
       "      <th>2006-12-31 00:00:00</th>\n",
       "      <th>2007-12-31 00:00:00</th>\n",
       "      <th>2008-12-31 00:00:00</th>\n",
       "      <th>2009-12-31 00:00:00</th>\n",
       "      <th>2010-12-31 00:00:00</th>\n",
       "      <th>2011-12-31 00:00:00</th>\n",
       "      <th>2012-12-31 00:00:00</th>\n",
       "      <th>2013-12-31 00:00:00</th>\n",
       "      <th>2014-12-31 00:00:00</th>\n",
       "      <th>2015-12-31 00:00:00</th>\n",
       "    </tr>\n",
       "    <tr>\n",
       "      <th>RELATED_EVENT</th>\n",
       "      <th>STATE</th>\n",
       "      <th></th>\n",
       "      <th></th>\n",
       "      <th></th>\n",
       "      <th></th>\n",
       "      <th></th>\n",
       "      <th></th>\n",
       "      <th></th>\n",
       "      <th></th>\n",
       "      <th></th>\n",
       "      <th></th>\n",
       "      <th></th>\n",
       "      <th></th>\n",
       "      <th></th>\n",
       "      <th></th>\n",
       "      <th></th>\n",
       "      <th></th>\n",
       "      <th></th>\n",
       "      <th></th>\n",
       "      <th></th>\n",
       "      <th></th>\n",
       "      <th></th>\n",
       "    </tr>\n",
       "  </thead>\n",
       "  <tbody>\n",
       "    <tr>\n",
       "      <th rowspan=\"5\" valign=\"top\">Drought</th>\n",
       "      <th>ALABAMA</th>\n",
       "      <td>NaN</td>\n",
       "      <td>NaN</td>\n",
       "      <td>NaN</td>\n",
       "      <td>NaN</td>\n",
       "      <td>NaN</td>\n",
       "      <td>NaN</td>\n",
       "      <td>NaN</td>\n",
       "      <td>NaN</td>\n",
       "      <td>2.0</td>\n",
       "      <td>6.0</td>\n",
       "      <td>...</td>\n",
       "      <td>112.0</td>\n",
       "      <td>464.0</td>\n",
       "      <td>364.0</td>\n",
       "      <td>NaN</td>\n",
       "      <td>108.0</td>\n",
       "      <td>295.0</td>\n",
       "      <td>239.0</td>\n",
       "      <td>43.0</td>\n",
       "      <td>NaN</td>\n",
       "      <td>NaN</td>\n",
       "    </tr>\n",
       "    <tr>\n",
       "      <th>ALASKA</th>\n",
       "      <td>NaN</td>\n",
       "      <td>NaN</td>\n",
       "      <td>NaN</td>\n",
       "      <td>NaN</td>\n",
       "      <td>NaN</td>\n",
       "      <td>NaN</td>\n",
       "      <td>2.0</td>\n",
       "      <td>1.0</td>\n",
       "      <td>NaN</td>\n",
       "      <td>NaN</td>\n",
       "      <td>...</td>\n",
       "      <td>NaN</td>\n",
       "      <td>NaN</td>\n",
       "      <td>NaN</td>\n",
       "      <td>NaN</td>\n",
       "      <td>NaN</td>\n",
       "      <td>NaN</td>\n",
       "      <td>NaN</td>\n",
       "      <td>NaN</td>\n",
       "      <td>NaN</td>\n",
       "      <td>NaN</td>\n",
       "    </tr>\n",
       "    <tr>\n",
       "      <th>AMERICAN SAMOA</th>\n",
       "      <td>NaN</td>\n",
       "      <td>NaN</td>\n",
       "      <td>NaN</td>\n",
       "      <td>NaN</td>\n",
       "      <td>NaN</td>\n",
       "      <td>NaN</td>\n",
       "      <td>NaN</td>\n",
       "      <td>NaN</td>\n",
       "      <td>16.0</td>\n",
       "      <td>NaN</td>\n",
       "      <td>...</td>\n",
       "      <td>NaN</td>\n",
       "      <td>NaN</td>\n",
       "      <td>NaN</td>\n",
       "      <td>NaN</td>\n",
       "      <td>NaN</td>\n",
       "      <td>NaN</td>\n",
       "      <td>NaN</td>\n",
       "      <td>NaN</td>\n",
       "      <td>NaN</td>\n",
       "      <td>NaN</td>\n",
       "    </tr>\n",
       "    <tr>\n",
       "      <th>ARIZONA</th>\n",
       "      <td>NaN</td>\n",
       "      <td>NaN</td>\n",
       "      <td>NaN</td>\n",
       "      <td>NaN</td>\n",
       "      <td>NaN</td>\n",
       "      <td>NaN</td>\n",
       "      <td>NaN</td>\n",
       "      <td>NaN</td>\n",
       "      <td>NaN</td>\n",
       "      <td>1.0</td>\n",
       "      <td>...</td>\n",
       "      <td>1.0</td>\n",
       "      <td>NaN</td>\n",
       "      <td>NaN</td>\n",
       "      <td>NaN</td>\n",
       "      <td>NaN</td>\n",
       "      <td>121.0</td>\n",
       "      <td>18.0</td>\n",
       "      <td>28.0</td>\n",
       "      <td>62.0</td>\n",
       "      <td>12.0</td>\n",
       "    </tr>\n",
       "    <tr>\n",
       "      <th>ARKANSAS</th>\n",
       "      <td>NaN</td>\n",
       "      <td>NaN</td>\n",
       "      <td>NaN</td>\n",
       "      <td>NaN</td>\n",
       "      <td>NaN</td>\n",
       "      <td>NaN</td>\n",
       "      <td>6.0</td>\n",
       "      <td>NaN</td>\n",
       "      <td>NaN</td>\n",
       "      <td>NaN</td>\n",
       "      <td>...</td>\n",
       "      <td>37.0</td>\n",
       "      <td>36.0</td>\n",
       "      <td>NaN</td>\n",
       "      <td>NaN</td>\n",
       "      <td>167.0</td>\n",
       "      <td>377.0</td>\n",
       "      <td>452.0</td>\n",
       "      <td>144.0</td>\n",
       "      <td>NaN</td>\n",
       "      <td>28.0</td>\n",
       "    </tr>\n",
       "  </tbody>\n",
       "</table>\n",
       "<p>5 rows × 26 columns</p>\n",
       "</div>"
      ],
      "text/plain": [
       "DATE                          1990-12-31  1991-12-31  1992-12-31  1993-12-31  \\\n",
       "RELATED_EVENT STATE                                                            \n",
       "Drought       ALABAMA                NaN         NaN         NaN         NaN   \n",
       "              ALASKA                 NaN         NaN         NaN         NaN   \n",
       "              AMERICAN SAMOA         NaN         NaN         NaN         NaN   \n",
       "              ARIZONA                NaN         NaN         NaN         NaN   \n",
       "              ARKANSAS               NaN         NaN         NaN         NaN   \n",
       "\n",
       "DATE                          1994-12-31  1995-12-31  1996-12-31  1997-12-31  \\\n",
       "RELATED_EVENT STATE                                                            \n",
       "Drought       ALABAMA                NaN         NaN         NaN         NaN   \n",
       "              ALASKA                 NaN         NaN         2.0         1.0   \n",
       "              AMERICAN SAMOA         NaN         NaN         NaN         NaN   \n",
       "              ARIZONA                NaN         NaN         NaN         NaN   \n",
       "              ARKANSAS               NaN         NaN         6.0         NaN   \n",
       "\n",
       "DATE                          1998-12-31  1999-12-31     ...      2006-12-31  \\\n",
       "RELATED_EVENT STATE                                      ...                   \n",
       "Drought       ALABAMA                2.0         6.0     ...           112.0   \n",
       "              ALASKA                 NaN         NaN     ...             NaN   \n",
       "              AMERICAN SAMOA        16.0         NaN     ...             NaN   \n",
       "              ARIZONA                NaN         1.0     ...             1.0   \n",
       "              ARKANSAS               NaN         NaN     ...            37.0   \n",
       "\n",
       "DATE                          2007-12-31  2008-12-31  2009-12-31  2010-12-31  \\\n",
       "RELATED_EVENT STATE                                                            \n",
       "Drought       ALABAMA              464.0       364.0         NaN       108.0   \n",
       "              ALASKA                 NaN         NaN         NaN         NaN   \n",
       "              AMERICAN SAMOA         NaN         NaN         NaN         NaN   \n",
       "              ARIZONA                NaN         NaN         NaN         NaN   \n",
       "              ARKANSAS              36.0         NaN         NaN       167.0   \n",
       "\n",
       "DATE                          2011-12-31  2012-12-31  2013-12-31  2014-12-31  \\\n",
       "RELATED_EVENT STATE                                                            \n",
       "Drought       ALABAMA              295.0       239.0        43.0         NaN   \n",
       "              ALASKA                 NaN         NaN         NaN         NaN   \n",
       "              AMERICAN SAMOA         NaN         NaN         NaN         NaN   \n",
       "              ARIZONA              121.0        18.0        28.0        62.0   \n",
       "              ARKANSAS             377.0       452.0       144.0         NaN   \n",
       "\n",
       "DATE                          2015-12-31  \n",
       "RELATED_EVENT STATE                       \n",
       "Drought       ALABAMA                NaN  \n",
       "              ALASKA                 NaN  \n",
       "              AMERICAN SAMOA         NaN  \n",
       "              ARIZONA               12.0  \n",
       "              ARKANSAS              28.0  \n",
       "\n",
       "[5 rows x 26 columns]"
      ]
     },
     "execution_count": 42,
     "metadata": {},
     "output_type": "execute_result"
    }
   ],
   "source": [
    "table.head()"
   ]
  },
  {
   "cell_type": "code",
   "execution_count": 43,
   "metadata": {
    "collapsed": false
   },
   "outputs": [],
   "source": [
    "table.fillna(0, inplace=True)"
   ]
  },
  {
   "cell_type": "markdown",
   "metadata": {},
   "source": [
    "#### Revert back to df and back to original formatting \n",
    "So that Date is its own column!"
   ]
  },
  {
   "cell_type": "code",
   "execution_count": 44,
   "metadata": {
    "collapsed": true
   },
   "outputs": [],
   "source": [
    "final_data = pd.DataFrame(table)"
   ]
  },
  {
   "cell_type": "code",
   "execution_count": 45,
   "metadata": {
    "collapsed": false
   },
   "outputs": [
    {
     "data": {
      "text/html": [
       "<div>\n",
       "<table border=\"1\" class=\"dataframe\">\n",
       "  <thead>\n",
       "    <tr style=\"text-align: right;\">\n",
       "      <th></th>\n",
       "      <th>DATE</th>\n",
       "      <th>1990-12-31 00:00:00</th>\n",
       "      <th>1991-12-31 00:00:00</th>\n",
       "      <th>1992-12-31 00:00:00</th>\n",
       "      <th>1993-12-31 00:00:00</th>\n",
       "      <th>1994-12-31 00:00:00</th>\n",
       "      <th>1995-12-31 00:00:00</th>\n",
       "      <th>1996-12-31 00:00:00</th>\n",
       "      <th>1997-12-31 00:00:00</th>\n",
       "      <th>1998-12-31 00:00:00</th>\n",
       "      <th>1999-12-31 00:00:00</th>\n",
       "      <th>...</th>\n",
       "      <th>2006-12-31 00:00:00</th>\n",
       "      <th>2007-12-31 00:00:00</th>\n",
       "      <th>2008-12-31 00:00:00</th>\n",
       "      <th>2009-12-31 00:00:00</th>\n",
       "      <th>2010-12-31 00:00:00</th>\n",
       "      <th>2011-12-31 00:00:00</th>\n",
       "      <th>2012-12-31 00:00:00</th>\n",
       "      <th>2013-12-31 00:00:00</th>\n",
       "      <th>2014-12-31 00:00:00</th>\n",
       "      <th>2015-12-31 00:00:00</th>\n",
       "    </tr>\n",
       "    <tr>\n",
       "      <th>RELATED_EVENT</th>\n",
       "      <th>STATE</th>\n",
       "      <th></th>\n",
       "      <th></th>\n",
       "      <th></th>\n",
       "      <th></th>\n",
       "      <th></th>\n",
       "      <th></th>\n",
       "      <th></th>\n",
       "      <th></th>\n",
       "      <th></th>\n",
       "      <th></th>\n",
       "      <th></th>\n",
       "      <th></th>\n",
       "      <th></th>\n",
       "      <th></th>\n",
       "      <th></th>\n",
       "      <th></th>\n",
       "      <th></th>\n",
       "      <th></th>\n",
       "      <th></th>\n",
       "      <th></th>\n",
       "      <th></th>\n",
       "    </tr>\n",
       "  </thead>\n",
       "  <tbody>\n",
       "    <tr>\n",
       "      <th rowspan=\"5\" valign=\"top\">Drought</th>\n",
       "      <th>ALABAMA</th>\n",
       "      <td>0.0</td>\n",
       "      <td>0.0</td>\n",
       "      <td>0.0</td>\n",
       "      <td>0.0</td>\n",
       "      <td>0.0</td>\n",
       "      <td>0.0</td>\n",
       "      <td>0.0</td>\n",
       "      <td>0.0</td>\n",
       "      <td>2.0</td>\n",
       "      <td>6.0</td>\n",
       "      <td>...</td>\n",
       "      <td>112.0</td>\n",
       "      <td>464.0</td>\n",
       "      <td>364.0</td>\n",
       "      <td>0.0</td>\n",
       "      <td>108.0</td>\n",
       "      <td>295.0</td>\n",
       "      <td>239.0</td>\n",
       "      <td>43.0</td>\n",
       "      <td>0.0</td>\n",
       "      <td>0.0</td>\n",
       "    </tr>\n",
       "    <tr>\n",
       "      <th>ALASKA</th>\n",
       "      <td>0.0</td>\n",
       "      <td>0.0</td>\n",
       "      <td>0.0</td>\n",
       "      <td>0.0</td>\n",
       "      <td>0.0</td>\n",
       "      <td>0.0</td>\n",
       "      <td>2.0</td>\n",
       "      <td>1.0</td>\n",
       "      <td>0.0</td>\n",
       "      <td>0.0</td>\n",
       "      <td>...</td>\n",
       "      <td>0.0</td>\n",
       "      <td>0.0</td>\n",
       "      <td>0.0</td>\n",
       "      <td>0.0</td>\n",
       "      <td>0.0</td>\n",
       "      <td>0.0</td>\n",
       "      <td>0.0</td>\n",
       "      <td>0.0</td>\n",
       "      <td>0.0</td>\n",
       "      <td>0.0</td>\n",
       "    </tr>\n",
       "    <tr>\n",
       "      <th>AMERICAN SAMOA</th>\n",
       "      <td>0.0</td>\n",
       "      <td>0.0</td>\n",
       "      <td>0.0</td>\n",
       "      <td>0.0</td>\n",
       "      <td>0.0</td>\n",
       "      <td>0.0</td>\n",
       "      <td>0.0</td>\n",
       "      <td>0.0</td>\n",
       "      <td>16.0</td>\n",
       "      <td>0.0</td>\n",
       "      <td>...</td>\n",
       "      <td>0.0</td>\n",
       "      <td>0.0</td>\n",
       "      <td>0.0</td>\n",
       "      <td>0.0</td>\n",
       "      <td>0.0</td>\n",
       "      <td>0.0</td>\n",
       "      <td>0.0</td>\n",
       "      <td>0.0</td>\n",
       "      <td>0.0</td>\n",
       "      <td>0.0</td>\n",
       "    </tr>\n",
       "    <tr>\n",
       "      <th>ARIZONA</th>\n",
       "      <td>0.0</td>\n",
       "      <td>0.0</td>\n",
       "      <td>0.0</td>\n",
       "      <td>0.0</td>\n",
       "      <td>0.0</td>\n",
       "      <td>0.0</td>\n",
       "      <td>0.0</td>\n",
       "      <td>0.0</td>\n",
       "      <td>0.0</td>\n",
       "      <td>1.0</td>\n",
       "      <td>...</td>\n",
       "      <td>1.0</td>\n",
       "      <td>0.0</td>\n",
       "      <td>0.0</td>\n",
       "      <td>0.0</td>\n",
       "      <td>0.0</td>\n",
       "      <td>121.0</td>\n",
       "      <td>18.0</td>\n",
       "      <td>28.0</td>\n",
       "      <td>62.0</td>\n",
       "      <td>12.0</td>\n",
       "    </tr>\n",
       "    <tr>\n",
       "      <th>ARKANSAS</th>\n",
       "      <td>0.0</td>\n",
       "      <td>0.0</td>\n",
       "      <td>0.0</td>\n",
       "      <td>0.0</td>\n",
       "      <td>0.0</td>\n",
       "      <td>0.0</td>\n",
       "      <td>6.0</td>\n",
       "      <td>0.0</td>\n",
       "      <td>0.0</td>\n",
       "      <td>0.0</td>\n",
       "      <td>...</td>\n",
       "      <td>37.0</td>\n",
       "      <td>36.0</td>\n",
       "      <td>0.0</td>\n",
       "      <td>0.0</td>\n",
       "      <td>167.0</td>\n",
       "      <td>377.0</td>\n",
       "      <td>452.0</td>\n",
       "      <td>144.0</td>\n",
       "      <td>0.0</td>\n",
       "      <td>28.0</td>\n",
       "    </tr>\n",
       "  </tbody>\n",
       "</table>\n",
       "<p>5 rows × 26 columns</p>\n",
       "</div>"
      ],
      "text/plain": [
       "DATE                          1990-12-31  1991-12-31  1992-12-31  1993-12-31  \\\n",
       "RELATED_EVENT STATE                                                            \n",
       "Drought       ALABAMA                0.0         0.0         0.0         0.0   \n",
       "              ALASKA                 0.0         0.0         0.0         0.0   \n",
       "              AMERICAN SAMOA         0.0         0.0         0.0         0.0   \n",
       "              ARIZONA                0.0         0.0         0.0         0.0   \n",
       "              ARKANSAS               0.0         0.0         0.0         0.0   \n",
       "\n",
       "DATE                          1994-12-31  1995-12-31  1996-12-31  1997-12-31  \\\n",
       "RELATED_EVENT STATE                                                            \n",
       "Drought       ALABAMA                0.0         0.0         0.0         0.0   \n",
       "              ALASKA                 0.0         0.0         2.0         1.0   \n",
       "              AMERICAN SAMOA         0.0         0.0         0.0         0.0   \n",
       "              ARIZONA                0.0         0.0         0.0         0.0   \n",
       "              ARKANSAS               0.0         0.0         6.0         0.0   \n",
       "\n",
       "DATE                          1998-12-31  1999-12-31     ...      2006-12-31  \\\n",
       "RELATED_EVENT STATE                                      ...                   \n",
       "Drought       ALABAMA                2.0         6.0     ...           112.0   \n",
       "              ALASKA                 0.0         0.0     ...             0.0   \n",
       "              AMERICAN SAMOA        16.0         0.0     ...             0.0   \n",
       "              ARIZONA                0.0         1.0     ...             1.0   \n",
       "              ARKANSAS               0.0         0.0     ...            37.0   \n",
       "\n",
       "DATE                          2007-12-31  2008-12-31  2009-12-31  2010-12-31  \\\n",
       "RELATED_EVENT STATE                                                            \n",
       "Drought       ALABAMA              464.0       364.0         0.0       108.0   \n",
       "              ALASKA                 0.0         0.0         0.0         0.0   \n",
       "              AMERICAN SAMOA         0.0         0.0         0.0         0.0   \n",
       "              ARIZONA                0.0         0.0         0.0         0.0   \n",
       "              ARKANSAS              36.0         0.0         0.0       167.0   \n",
       "\n",
       "DATE                          2011-12-31  2012-12-31  2013-12-31  2014-12-31  \\\n",
       "RELATED_EVENT STATE                                                            \n",
       "Drought       ALABAMA              295.0       239.0        43.0         0.0   \n",
       "              ALASKA                 0.0         0.0         0.0         0.0   \n",
       "              AMERICAN SAMOA         0.0         0.0         0.0         0.0   \n",
       "              ARIZONA              121.0        18.0        28.0        62.0   \n",
       "              ARKANSAS             377.0       452.0       144.0         0.0   \n",
       "\n",
       "DATE                          2015-12-31  \n",
       "RELATED_EVENT STATE                       \n",
       "Drought       ALABAMA                0.0  \n",
       "              ALASKA                 0.0  \n",
       "              AMERICAN SAMOA         0.0  \n",
       "              ARIZONA               12.0  \n",
       "              ARKANSAS              28.0  \n",
       "\n",
       "[5 rows x 26 columns]"
      ]
     },
     "execution_count": 45,
     "metadata": {},
     "output_type": "execute_result"
    }
   ],
   "source": [
    "final_data.head()"
   ]
  },
  {
   "cell_type": "code",
   "execution_count": 46,
   "metadata": {
    "collapsed": false
   },
   "outputs": [],
   "source": [
    "final_data = final_data.stack()"
   ]
  },
  {
   "cell_type": "code",
   "execution_count": 47,
   "metadata": {
    "collapsed": false
   },
   "outputs": [
    {
     "data": {
      "text/plain": [
       "RELATED_EVENT  STATE    DATE      \n",
       "Drought        ALABAMA  1990-12-31    0.0\n",
       "                        1991-12-31    0.0\n",
       "                        1992-12-31    0.0\n",
       "                        1993-12-31    0.0\n",
       "                        1994-12-31    0.0\n",
       "dtype: float64"
      ]
     },
     "execution_count": 47,
     "metadata": {},
     "output_type": "execute_result"
    }
   ],
   "source": [
    "final_data.head()"
   ]
  },
  {
   "cell_type": "code",
   "execution_count": 48,
   "metadata": {
    "collapsed": false
   },
   "outputs": [],
   "source": [
    "final_data = final_data.reset_index()"
   ]
  },
  {
   "cell_type": "code",
   "execution_count": 49,
   "metadata": {
    "collapsed": true
   },
   "outputs": [],
   "source": [
    "final_data.rename(columns={0:\"NUM_EVENTS\"},inplace=True)"
   ]
  },
  {
   "cell_type": "code",
   "execution_count": 50,
   "metadata": {
    "collapsed": false
   },
   "outputs": [
    {
     "data": {
      "text/html": [
       "<div>\n",
       "<table border=\"1\" class=\"dataframe\">\n",
       "  <thead>\n",
       "    <tr style=\"text-align: right;\">\n",
       "      <th></th>\n",
       "      <th>RELATED_EVENT</th>\n",
       "      <th>STATE</th>\n",
       "      <th>DATE</th>\n",
       "      <th>NUM_EVENTS</th>\n",
       "    </tr>\n",
       "  </thead>\n",
       "  <tbody>\n",
       "    <tr>\n",
       "      <th>0</th>\n",
       "      <td>Drought</td>\n",
       "      <td>ALABAMA</td>\n",
       "      <td>1990-12-31</td>\n",
       "      <td>0.0</td>\n",
       "    </tr>\n",
       "    <tr>\n",
       "      <th>1</th>\n",
       "      <td>Drought</td>\n",
       "      <td>ALABAMA</td>\n",
       "      <td>1991-12-31</td>\n",
       "      <td>0.0</td>\n",
       "    </tr>\n",
       "    <tr>\n",
       "      <th>2</th>\n",
       "      <td>Drought</td>\n",
       "      <td>ALABAMA</td>\n",
       "      <td>1992-12-31</td>\n",
       "      <td>0.0</td>\n",
       "    </tr>\n",
       "    <tr>\n",
       "      <th>3</th>\n",
       "      <td>Drought</td>\n",
       "      <td>ALABAMA</td>\n",
       "      <td>1993-12-31</td>\n",
       "      <td>0.0</td>\n",
       "    </tr>\n",
       "    <tr>\n",
       "      <th>4</th>\n",
       "      <td>Drought</td>\n",
       "      <td>ALABAMA</td>\n",
       "      <td>1994-12-31</td>\n",
       "      <td>0.0</td>\n",
       "    </tr>\n",
       "  </tbody>\n",
       "</table>\n",
       "</div>"
      ],
      "text/plain": [
       "  RELATED_EVENT    STATE       DATE  NUM_EVENTS\n",
       "0       Drought  ALABAMA 1990-12-31         0.0\n",
       "1       Drought  ALABAMA 1991-12-31         0.0\n",
       "2       Drought  ALABAMA 1992-12-31         0.0\n",
       "3       Drought  ALABAMA 1993-12-31         0.0\n",
       "4       Drought  ALABAMA 1994-12-31         0.0"
      ]
     },
     "execution_count": 50,
     "metadata": {},
     "output_type": "execute_result"
    }
   ],
   "source": [
    "final_data.head()"
   ]
  },
  {
   "cell_type": "code",
   "execution_count": 51,
   "metadata": {
    "collapsed": true
   },
   "outputs": [],
   "source": [
    "final_data['STATE'] = final_data['STATE'].apply(lambda x: x.title())"
   ]
  },
  {
   "cell_type": "markdown",
   "metadata": {},
   "source": [
    "#### Final step is to add in the state ID so that this dataset can be matched to the json file"
   ]
  },
  {
   "cell_type": "code",
   "execution_count": 52,
   "metadata": {
    "collapsed": false
   },
   "outputs": [],
   "source": [
    "state_fips = pd.read_csv(\"/Users/meghajain/Desktop/Metis/Projects/Final/d3/static/us-county-names.csv\", sep=\"\\t\")"
   ]
  },
  {
   "cell_type": "code",
   "execution_count": 54,
   "metadata": {
    "collapsed": true
   },
   "outputs": [],
   "source": [
    "## rename column to match final_data for merge later\n",
    "state_fips.rename(columns={'name': 'STATE'},inplace=True)"
   ]
  },
  {
   "cell_type": "code",
   "execution_count": 55,
   "metadata": {
    "collapsed": false
   },
   "outputs": [],
   "source": [
    "## state fips are multiples of 1000, while state-county combos are not. i only need the state fips to match\n",
    "state_fips['id'] = state_fips['id'].apply(lambda x: x if x%1000 == 0 else 0)"
   ]
  },
  {
   "cell_type": "code",
   "execution_count": 56,
   "metadata": {
    "collapsed": false
   },
   "outputs": [],
   "source": [
    "state_fips = state_fips[state_fips['id']!=0]"
   ]
  },
  {
   "cell_type": "code",
   "execution_count": 57,
   "metadata": {
    "collapsed": false
   },
   "outputs": [],
   "source": [
    "final_withfips = pd.merge(final_data, state_fips, on = 'STATE', how ='left')"
   ]
  },
  {
   "cell_type": "code",
   "execution_count": 59,
   "metadata": {
    "collapsed": false,
    "scrolled": true
   },
   "outputs": [
    {
     "data": {
      "text/plain": [
       "(5434, 5434)"
      ]
     },
     "execution_count": 59,
     "metadata": {},
     "output_type": "execute_result"
    }
   ],
   "source": [
    "len(final_data), len(final_withfips)"
   ]
  },
  {
   "cell_type": "code",
   "execution_count": 60,
   "metadata": {
    "collapsed": true
   },
   "outputs": [],
   "source": [
    "final_withfips.to_csv(\"/Users/meghajain/Desktop/noaa.csv\")"
   ]
  },
  {
   "cell_type": "code",
   "execution_count": null,
   "metadata": {
    "collapsed": true
   },
   "outputs": [],
   "source": []
  },
  {
   "cell_type": "code",
   "execution_count": null,
   "metadata": {
    "collapsed": true
   },
   "outputs": [],
   "source": []
  }
 ],
 "metadata": {
  "anaconda-cloud": {},
  "kernelspec": {
   "display_name": "Python [Root]",
   "language": "python",
   "name": "Python [Root]"
  },
  "language_info": {
   "codemirror_mode": {
    "name": "ipython",
    "version": 3
   },
   "file_extension": ".py",
   "mimetype": "text/x-python",
   "name": "python",
   "nbconvert_exporter": "python",
   "pygments_lexer": "ipython3",
   "version": "3.5.1"
  }
 },
 "nbformat": 4,
 "nbformat_minor": 0
}
