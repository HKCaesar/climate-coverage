{
 "cells": [
  {
   "cell_type": "code",
   "execution_count": 1,
   "metadata": {
    "collapsed": true
   },
   "outputs": [],
   "source": [
    "import pandas as pd"
   ]
  },
  {
   "cell_type": "code",
   "execution_count": 2,
   "metadata": {
    "collapsed": true
   },
   "outputs": [],
   "source": [
    "drought = pd.read_pickle(\"/Users/meghajain/Desktop/Metis/Projects/Final/final_datasets/drought.pkl\")"
   ]
  },
  {
   "cell_type": "code",
   "execution_count": 3,
   "metadata": {
    "collapsed": true
   },
   "outputs": [
    {
     "data": {
      "text/html": [
       "<div>\n",
       "<table border=\"1\" class=\"dataframe\">\n",
       "  <thead>\n",
       "    <tr style=\"text-align: right;\">\n",
       "      <th></th>\n",
       "      <th>Headline</th>\n",
       "      <th>Date</th>\n",
       "      <th>Source</th>\n",
       "      <th>Body</th>\n",
       "      <th>Event Type</th>\n",
       "      <th>Topics</th>\n",
       "      <th>Agriculture</th>\n",
       "      <th>Landscape</th>\n",
       "      <th>Fires</th>\n",
       "      <th>Climate</th>\n",
       "      <th>Water use</th>\n",
       "    </tr>\n",
       "  </thead>\n",
       "  <tbody>\n",
       "    <tr>\n",
       "      <th>0</th>\n",
       "      <td>COMIC DOESN'T ROCK THE BOAT AT STREAMLINED AWA...</td>\n",
       "      <td>2005-02-28</td>\n",
       "      <td>Arizona Republic</td>\n",
       "      <td>Chill out. Those who were worried that Chris R...</td>\n",
       "      <td>Drought</td>\n",
       "      <td>3</td>\n",
       "      <td>0.000000</td>\n",
       "      <td>0.024935</td>\n",
       "      <td>0.006280</td>\n",
       "      <td>0.021430</td>\n",
       "      <td>0.007700</td>\n",
       "    </tr>\n",
       "    <tr>\n",
       "      <th>1</th>\n",
       "      <td>Will Arizonans have to turn off the tap, too?</td>\n",
       "      <td>2015-08-08</td>\n",
       "      <td>Arizona Republic</td>\n",
       "      <td>We've all seen the water situation in Californ...</td>\n",
       "      <td>Drought</td>\n",
       "      <td>0</td>\n",
       "      <td>0.008337</td>\n",
       "      <td>0.040519</td>\n",
       "      <td>0.000000</td>\n",
       "      <td>0.000000</td>\n",
       "      <td>0.073896</td>\n",
       "    </tr>\n",
       "    <tr>\n",
       "      <th>2</th>\n",
       "      <td>GOLF FACES 2-PRONGED ATTACK TOURISM DROP, SALI...</td>\n",
       "      <td>2002-05-22</td>\n",
       "      <td>Arizona Republic</td>\n",
       "      <td>Arizona's tourism drought has filtered down to...</td>\n",
       "      <td>Drought</td>\n",
       "      <td>0</td>\n",
       "      <td>0.009765</td>\n",
       "      <td>0.010549</td>\n",
       "      <td>0.000000</td>\n",
       "      <td>0.008265</td>\n",
       "      <td>0.031859</td>\n",
       "    </tr>\n",
       "    <tr>\n",
       "      <th>3</th>\n",
       "      <td>DROUGHT DIMINISHES RIVER RANCHERS, CITIES NEAR...</td>\n",
       "      <td>2004-07-25</td>\n",
       "      <td>Arizona Republic</td>\n",
       "      <td>Part 1 High in the Rockies at the Colorado's s...</td>\n",
       "      <td>Drought</td>\n",
       "      <td>0</td>\n",
       "      <td>0.004845</td>\n",
       "      <td>0.002367</td>\n",
       "      <td>0.016202</td>\n",
       "      <td>0.000000</td>\n",
       "      <td>0.090524</td>\n",
       "    </tr>\n",
       "    <tr>\n",
       "      <th>4</th>\n",
       "      <td>CANDY CORN PLANT PROVES ELUSIVE HERE</td>\n",
       "      <td>2004-07-10</td>\n",
       "      <td>Arizona Republic</td>\n",
       "      <td>QUESTION: The candy corn plant is available in...</td>\n",
       "      <td>Drought</td>\n",
       "      <td>3</td>\n",
       "      <td>0.018377</td>\n",
       "      <td>0.110856</td>\n",
       "      <td>0.000000</td>\n",
       "      <td>0.000000</td>\n",
       "      <td>0.000000</td>\n",
       "    </tr>\n",
       "  </tbody>\n",
       "</table>\n",
       "</div>"
      ],
      "text/plain": [
       "                                            Headline       Date  \\\n",
       "0  COMIC DOESN'T ROCK THE BOAT AT STREAMLINED AWA... 2005-02-28   \n",
       "1      Will Arizonans have to turn off the tap, too? 2015-08-08   \n",
       "2  GOLF FACES 2-PRONGED ATTACK TOURISM DROP, SALI... 2002-05-22   \n",
       "3  DROUGHT DIMINISHES RIVER RANCHERS, CITIES NEAR... 2004-07-25   \n",
       "4               CANDY CORN PLANT PROVES ELUSIVE HERE 2004-07-10   \n",
       "\n",
       "             Source                                               Body  \\\n",
       "0  Arizona Republic  Chill out. Those who were worried that Chris R...   \n",
       "1  Arizona Republic  We've all seen the water situation in Californ...   \n",
       "2  Arizona Republic  Arizona's tourism drought has filtered down to...   \n",
       "3  Arizona Republic  Part 1 High in the Rockies at the Colorado's s...   \n",
       "4  Arizona Republic  QUESTION: The candy corn plant is available in...   \n",
       "\n",
       "  Event Type  Topics  Agriculture  Landscape     Fires   Climate  Water use  \n",
       "0    Drought       3     0.000000   0.024935  0.006280  0.021430   0.007700  \n",
       "1    Drought       0     0.008337   0.040519  0.000000  0.000000   0.073896  \n",
       "2    Drought       0     0.009765   0.010549  0.000000  0.008265   0.031859  \n",
       "3    Drought       0     0.004845   0.002367  0.016202  0.000000   0.090524  \n",
       "4    Drought       3     0.018377   0.110856  0.000000  0.000000   0.000000  "
      ]
     },
     "execution_count": 3,
     "metadata": {},
     "output_type": "execute_result"
    }
   ],
   "source": [
    "drought.head()"
   ]
  },
  {
   "cell_type": "code",
   "execution_count": 4,
   "metadata": {
    "collapsed": false
   },
   "outputs": [],
   "source": [
    "drought_bydate = drought.copy(deep=True)\n",
    "drought_bydate.set_index(drought_bydate['Date'], inplace=True, drop=True)"
   ]
  },
  {
   "cell_type": "markdown",
   "metadata": {},
   "source": [
    "## All sources\n",
    "#### Topic strength by year"
   ]
  },
  {
   "cell_type": "code",
   "execution_count": 5,
   "metadata": {
    "collapsed": false
   },
   "outputs": [],
   "source": [
    "drought_grouped_date = drought_bydate.groupby(by=[pd.TimeGrouper(freq='A')])"
   ]
  },
  {
   "cell_type": "code",
   "execution_count": 6,
   "metadata": {
    "collapsed": true
   },
   "outputs": [],
   "source": [
    "trends_bydate = pd.DataFrame({'Agriculture': drought_grouped_date['Agriculture'].sum()/drought_grouped_date.size(), 'Landscape': drought_grouped_date['Landscape'].sum()/drought_grouped_date.size(), 'Fires': drought_grouped_date['Fires'].sum()/drought_grouped_date.size(), 'Climate': drought_grouped_date['Climate'].sum()/drought_grouped_date.size(), 'Water use': drought_grouped_date['Water use'].sum()/drought_grouped_date.size()}).reset_index()"
   ]
  },
  {
   "cell_type": "code",
   "execution_count": 7,
   "metadata": {
    "collapsed": true
   },
   "outputs": [],
   "source": [
    "trends_bydate.set_index(\"Date\", inplace=True)"
   ]
  },
  {
   "cell_type": "code",
   "execution_count": 8,
   "metadata": {
    "collapsed": true
   },
   "outputs": [],
   "source": [
    "trends_bydate.columns.name = \"Topic\""
   ]
  },
  {
   "cell_type": "code",
   "execution_count": 9,
   "metadata": {
    "collapsed": false
   },
   "outputs": [
    {
     "data": {
      "text/html": [
       "<div>\n",
       "<table border=\"1\" class=\"dataframe\">\n",
       "  <thead>\n",
       "    <tr style=\"text-align: right;\">\n",
       "      <th>Topic</th>\n",
       "      <th>Agriculture</th>\n",
       "      <th>Climate</th>\n",
       "      <th>Fires</th>\n",
       "      <th>Landscape</th>\n",
       "      <th>Water use</th>\n",
       "    </tr>\n",
       "    <tr>\n",
       "      <th>Date</th>\n",
       "      <th></th>\n",
       "      <th></th>\n",
       "      <th></th>\n",
       "      <th></th>\n",
       "      <th></th>\n",
       "    </tr>\n",
       "  </thead>\n",
       "  <tbody>\n",
       "    <tr>\n",
       "      <th>1990-12-31</th>\n",
       "      <td>0.011552</td>\n",
       "      <td>0.014681</td>\n",
       "      <td>0.018547</td>\n",
       "      <td>0.017982</td>\n",
       "      <td>0.029362</td>\n",
       "    </tr>\n",
       "    <tr>\n",
       "      <th>1991-12-31</th>\n",
       "      <td>0.009891</td>\n",
       "      <td>0.012012</td>\n",
       "      <td>0.017235</td>\n",
       "      <td>0.016460</td>\n",
       "      <td>0.036115</td>\n",
       "    </tr>\n",
       "    <tr>\n",
       "      <th>1992-12-31</th>\n",
       "      <td>0.010754</td>\n",
       "      <td>0.025484</td>\n",
       "      <td>0.020484</td>\n",
       "      <td>0.018642</td>\n",
       "      <td>0.023412</td>\n",
       "    </tr>\n",
       "    <tr>\n",
       "      <th>1993-12-31</th>\n",
       "      <td>0.014882</td>\n",
       "      <td>0.018169</td>\n",
       "      <td>0.021210</td>\n",
       "      <td>0.023692</td>\n",
       "      <td>0.023651</td>\n",
       "    </tr>\n",
       "    <tr>\n",
       "      <th>1994-12-31</th>\n",
       "      <td>0.010534</td>\n",
       "      <td>0.020160</td>\n",
       "      <td>0.017013</td>\n",
       "      <td>0.024745</td>\n",
       "      <td>0.022869</td>\n",
       "    </tr>\n",
       "  </tbody>\n",
       "</table>\n",
       "</div>"
      ],
      "text/plain": [
       "Topic       Agriculture   Climate     Fires  Landscape  Water use\n",
       "Date                                                             \n",
       "1990-12-31     0.011552  0.014681  0.018547   0.017982   0.029362\n",
       "1991-12-31     0.009891  0.012012  0.017235   0.016460   0.036115\n",
       "1992-12-31     0.010754  0.025484  0.020484   0.018642   0.023412\n",
       "1993-12-31     0.014882  0.018169  0.021210   0.023692   0.023651\n",
       "1994-12-31     0.010534  0.020160  0.017013   0.024745   0.022869"
      ]
     },
     "execution_count": 9,
     "metadata": {},
     "output_type": "execute_result"
    }
   ],
   "source": [
    "trends_bydate.head()"
   ]
  },
  {
   "cell_type": "code",
   "execution_count": 10,
   "metadata": {
    "collapsed": true
   },
   "outputs": [],
   "source": [
    "droughts_stacked = trends_bydate.stack()"
   ]
  },
  {
   "cell_type": "code",
   "execution_count": 11,
   "metadata": {
    "collapsed": false
   },
   "outputs": [
    {
     "data": {
      "text/plain": [
       "Date        Topic      \n",
       "1990-12-31  Agriculture    0.011552\n",
       "            Climate        0.014681\n",
       "            Fires          0.018547\n",
       "            Landscape      0.017982\n",
       "            Water use      0.029362\n",
       "dtype: float64"
      ]
     },
     "execution_count": 11,
     "metadata": {},
     "output_type": "execute_result"
    }
   ],
   "source": [
    "droughts_stacked.head()"
   ]
  },
  {
   "cell_type": "code",
   "execution_count": 12,
   "metadata": {
    "collapsed": false
   },
   "outputs": [],
   "source": [
    "droughts_dataviz = droughts_stacked.reset_index()"
   ]
  },
  {
   "cell_type": "code",
   "execution_count": 13,
   "metadata": {
    "collapsed": false
   },
   "outputs": [],
   "source": [
    "droughts_dataviz.rename(columns={0: \"Topic_strength\"},inplace=True)"
   ]
  },
  {
   "cell_type": "code",
   "execution_count": 14,
   "metadata": {
    "collapsed": true
   },
   "outputs": [
    {
     "data": {
      "text/html": [
       "<div>\n",
       "<table border=\"1\" class=\"dataframe\">\n",
       "  <thead>\n",
       "    <tr style=\"text-align: right;\">\n",
       "      <th></th>\n",
       "      <th>Date</th>\n",
       "      <th>Topic</th>\n",
       "      <th>Topic_strength</th>\n",
       "    </tr>\n",
       "  </thead>\n",
       "  <tbody>\n",
       "    <tr>\n",
       "      <th>0</th>\n",
       "      <td>1990-12-31</td>\n",
       "      <td>Agriculture</td>\n",
       "      <td>0.011552</td>\n",
       "    </tr>\n",
       "    <tr>\n",
       "      <th>1</th>\n",
       "      <td>1990-12-31</td>\n",
       "      <td>Climate</td>\n",
       "      <td>0.014681</td>\n",
       "    </tr>\n",
       "    <tr>\n",
       "      <th>2</th>\n",
       "      <td>1990-12-31</td>\n",
       "      <td>Fires</td>\n",
       "      <td>0.018547</td>\n",
       "    </tr>\n",
       "    <tr>\n",
       "      <th>3</th>\n",
       "      <td>1990-12-31</td>\n",
       "      <td>Landscape</td>\n",
       "      <td>0.017982</td>\n",
       "    </tr>\n",
       "    <tr>\n",
       "      <th>4</th>\n",
       "      <td>1990-12-31</td>\n",
       "      <td>Water use</td>\n",
       "      <td>0.029362</td>\n",
       "    </tr>\n",
       "  </tbody>\n",
       "</table>\n",
       "</div>"
      ],
      "text/plain": [
       "        Date        Topic  Topic_strength\n",
       "0 1990-12-31  Agriculture        0.011552\n",
       "1 1990-12-31      Climate        0.014681\n",
       "2 1990-12-31        Fires        0.018547\n",
       "3 1990-12-31    Landscape        0.017982\n",
       "4 1990-12-31    Water use        0.029362"
      ]
     },
     "execution_count": 14,
     "metadata": {},
     "output_type": "execute_result"
    }
   ],
   "source": [
    "droughts_dataviz.head()"
   ]
  },
  {
   "cell_type": "markdown",
   "metadata": {},
   "source": [
    "## By source"
   ]
  },
  {
   "cell_type": "code",
   "execution_count": 16,
   "metadata": {
    "collapsed": true
   },
   "outputs": [],
   "source": [
    "drought_grouped_source = drought_bydate.groupby(by=[\"Source\", pd.TimeGrouper(freq='A')])"
   ]
  },
  {
   "cell_type": "code",
   "execution_count": 17,
   "metadata": {
    "collapsed": false
   },
   "outputs": [
    {
     "data": {
      "text/plain": [
       "Source            Date      \n",
       "Arizona Republic  1999-12-31     53\n",
       "                  2000-12-31     58\n",
       "                  2001-12-31     33\n",
       "                  2002-12-31    171\n",
       "                  2003-12-31    167\n",
       "dtype: int64"
      ]
     },
     "execution_count": 17,
     "metadata": {},
     "output_type": "execute_result"
    }
   ],
   "source": [
    "drought_grouped_source.size().head()"
   ]
  },
  {
   "cell_type": "code",
   "execution_count": 18,
   "metadata": {
    "collapsed": true
   },
   "outputs": [],
   "source": [
    "trends_bysource = pd.DataFrame({'Agriculture': drought_grouped_source['Agriculture'].sum()/drought_grouped_source.size(), 'Landscape': drought_grouped_source['Landscape'].sum()/drought_grouped_source.size(), 'Fires': drought_grouped_source['Fires'].sum()/drought_grouped_source.size(), 'Climate': drought_grouped_source['Climate'].sum()/drought_grouped_source.size(), 'Water use': drought_grouped_source['Water use'].sum()/drought_grouped_source.size()}).reset_index()"
   ]
  },
  {
   "cell_type": "code",
   "execution_count": 19,
   "metadata": {
    "collapsed": true
   },
   "outputs": [],
   "source": [
    "trends_bysource.set_index([\"Date\", \"Source\"], inplace=True)"
   ]
  },
  {
   "cell_type": "code",
   "execution_count": 20,
   "metadata": {
    "collapsed": false
   },
   "outputs": [],
   "source": [
    "trends_bysource.columns.name = \"Topic\""
   ]
  },
  {
   "cell_type": "code",
   "execution_count": 21,
   "metadata": {
    "collapsed": false
   },
   "outputs": [
    {
     "data": {
      "text/html": [
       "<div>\n",
       "<table border=\"1\" class=\"dataframe\">\n",
       "  <thead>\n",
       "    <tr style=\"text-align: right;\">\n",
       "      <th></th>\n",
       "      <th>Topic</th>\n",
       "      <th>Agriculture</th>\n",
       "      <th>Climate</th>\n",
       "      <th>Fires</th>\n",
       "      <th>Landscape</th>\n",
       "      <th>Water use</th>\n",
       "    </tr>\n",
       "    <tr>\n",
       "      <th>Date</th>\n",
       "      <th>Source</th>\n",
       "      <th></th>\n",
       "      <th></th>\n",
       "      <th></th>\n",
       "      <th></th>\n",
       "      <th></th>\n",
       "    </tr>\n",
       "  </thead>\n",
       "  <tbody>\n",
       "    <tr>\n",
       "      <th>1999-12-31</th>\n",
       "      <th>Arizona Republic</th>\n",
       "      <td>0.006299</td>\n",
       "      <td>0.009512</td>\n",
       "      <td>0.010558</td>\n",
       "      <td>0.049856</td>\n",
       "      <td>0.019979</td>\n",
       "    </tr>\n",
       "    <tr>\n",
       "      <th>2000-12-31</th>\n",
       "      <th>Arizona Republic</th>\n",
       "      <td>0.003283</td>\n",
       "      <td>0.013007</td>\n",
       "      <td>0.020121</td>\n",
       "      <td>0.039166</td>\n",
       "      <td>0.015593</td>\n",
       "    </tr>\n",
       "    <tr>\n",
       "      <th>2001-12-31</th>\n",
       "      <th>Arizona Republic</th>\n",
       "      <td>0.005070</td>\n",
       "      <td>0.015078</td>\n",
       "      <td>0.010766</td>\n",
       "      <td>0.037561</td>\n",
       "      <td>0.016539</td>\n",
       "    </tr>\n",
       "    <tr>\n",
       "      <th>2002-12-31</th>\n",
       "      <th>Arizona Republic</th>\n",
       "      <td>0.004365</td>\n",
       "      <td>0.011888</td>\n",
       "      <td>0.017168</td>\n",
       "      <td>0.019907</td>\n",
       "      <td>0.025255</td>\n",
       "    </tr>\n",
       "    <tr>\n",
       "      <th>2003-12-31</th>\n",
       "      <th>Arizona Republic</th>\n",
       "      <td>0.004218</td>\n",
       "      <td>0.011076</td>\n",
       "      <td>0.015445</td>\n",
       "      <td>0.021096</td>\n",
       "      <td>0.026420</td>\n",
       "    </tr>\n",
       "  </tbody>\n",
       "</table>\n",
       "</div>"
      ],
      "text/plain": [
       "Topic                        Agriculture   Climate     Fires  Landscape  \\\n",
       "Date       Source                                                         \n",
       "1999-12-31 Arizona Republic     0.006299  0.009512  0.010558   0.049856   \n",
       "2000-12-31 Arizona Republic     0.003283  0.013007  0.020121   0.039166   \n",
       "2001-12-31 Arizona Republic     0.005070  0.015078  0.010766   0.037561   \n",
       "2002-12-31 Arizona Republic     0.004365  0.011888  0.017168   0.019907   \n",
       "2003-12-31 Arizona Republic     0.004218  0.011076  0.015445   0.021096   \n",
       "\n",
       "Topic                        Water use  \n",
       "Date       Source                       \n",
       "1999-12-31 Arizona Republic   0.019979  \n",
       "2000-12-31 Arizona Republic   0.015593  \n",
       "2001-12-31 Arizona Republic   0.016539  \n",
       "2002-12-31 Arizona Republic   0.025255  \n",
       "2003-12-31 Arizona Republic   0.026420  "
      ]
     },
     "execution_count": 21,
     "metadata": {},
     "output_type": "execute_result"
    }
   ],
   "source": [
    "trends_bysource.head()"
   ]
  },
  {
   "cell_type": "code",
   "execution_count": 22,
   "metadata": {
    "collapsed": true
   },
   "outputs": [],
   "source": [
    "droughts_bysource_stacked = trends_bysource.stack()"
   ]
  },
  {
   "cell_type": "code",
   "execution_count": 23,
   "metadata": {
    "collapsed": true
   },
   "outputs": [],
   "source": [
    "droughts_bysource_dataviz = droughts_bysource_stacked.reset_index()"
   ]
  },
  {
   "cell_type": "code",
   "execution_count": 24,
   "metadata": {
    "collapsed": true
   },
   "outputs": [
    {
     "data": {
      "text/html": [
       "<div>\n",
       "<table border=\"1\" class=\"dataframe\">\n",
       "  <thead>\n",
       "    <tr style=\"text-align: right;\">\n",
       "      <th></th>\n",
       "      <th>Date</th>\n",
       "      <th>Source</th>\n",
       "      <th>Topic</th>\n",
       "      <th>0</th>\n",
       "    </tr>\n",
       "  </thead>\n",
       "  <tbody>\n",
       "    <tr>\n",
       "      <th>0</th>\n",
       "      <td>1999-12-31</td>\n",
       "      <td>Arizona Republic</td>\n",
       "      <td>Agriculture</td>\n",
       "      <td>0.006299</td>\n",
       "    </tr>\n",
       "    <tr>\n",
       "      <th>1</th>\n",
       "      <td>1999-12-31</td>\n",
       "      <td>Arizona Republic</td>\n",
       "      <td>Climate</td>\n",
       "      <td>0.009512</td>\n",
       "    </tr>\n",
       "    <tr>\n",
       "      <th>2</th>\n",
       "      <td>1999-12-31</td>\n",
       "      <td>Arizona Republic</td>\n",
       "      <td>Fires</td>\n",
       "      <td>0.010558</td>\n",
       "    </tr>\n",
       "    <tr>\n",
       "      <th>3</th>\n",
       "      <td>1999-12-31</td>\n",
       "      <td>Arizona Republic</td>\n",
       "      <td>Landscape</td>\n",
       "      <td>0.049856</td>\n",
       "    </tr>\n",
       "    <tr>\n",
       "      <th>4</th>\n",
       "      <td>1999-12-31</td>\n",
       "      <td>Arizona Republic</td>\n",
       "      <td>Water use</td>\n",
       "      <td>0.019979</td>\n",
       "    </tr>\n",
       "  </tbody>\n",
       "</table>\n",
       "</div>"
      ],
      "text/plain": [
       "        Date            Source        Topic         0\n",
       "0 1999-12-31  Arizona Republic  Agriculture  0.006299\n",
       "1 1999-12-31  Arizona Republic      Climate  0.009512\n",
       "2 1999-12-31  Arizona Republic        Fires  0.010558\n",
       "3 1999-12-31  Arizona Republic    Landscape  0.049856\n",
       "4 1999-12-31  Arizona Republic    Water use  0.019979"
      ]
     },
     "execution_count": 24,
     "metadata": {},
     "output_type": "execute_result"
    }
   ],
   "source": [
    "droughts_bysource_dataviz.head()"
   ]
  },
  {
   "cell_type": "code",
   "execution_count": 25,
   "metadata": {
    "collapsed": true
   },
   "outputs": [],
   "source": [
    "droughts_bysource_dataviz.rename(columns={0: \"Topic_strength\"},inplace=True)"
   ]
  },
  {
   "cell_type": "markdown",
   "metadata": {},
   "source": [
    "## Combine 'all' dataset with 'by source'"
   ]
  },
  {
   "cell_type": "code",
   "execution_count": 26,
   "metadata": {
    "collapsed": true
   },
   "outputs": [],
   "source": [
    "droughts_dataviz[\"Source\"] = \"All\""
   ]
  },
  {
   "cell_type": "code",
   "execution_count": 27,
   "metadata": {
    "collapsed": true
   },
   "outputs": [],
   "source": [
    "droughts_final = pd.concat(objs=[droughts_dataviz, droughts_bysource_dataviz], ignore_index=True)"
   ]
  },
  {
   "cell_type": "code",
   "execution_count": 28,
   "metadata": {
    "collapsed": false
   },
   "outputs": [
    {
     "data": {
      "text/plain": [
       "(130, 1285)"
      ]
     },
     "execution_count": 28,
     "metadata": {},
     "output_type": "execute_result"
    }
   ],
   "source": [
    "len(droughts_dataviz), len(droughts_bysource_dataviz)"
   ]
  },
  {
   "cell_type": "code",
   "execution_count": 29,
   "metadata": {
    "collapsed": false
   },
   "outputs": [
    {
     "data": {
      "text/plain": [
       "1415"
      ]
     },
     "execution_count": 29,
     "metadata": {},
     "output_type": "execute_result"
    }
   ],
   "source": [
    "len(droughts_final)"
   ]
  },
  {
   "cell_type": "code",
   "execution_count": 30,
   "metadata": {
    "collapsed": true
   },
   "outputs": [],
   "source": [
    "droughts_final.to_csv(\"/Users/meghajain/Desktop/droughts_final.csv\")"
   ]
  },
  {
   "cell_type": "code",
   "execution_count": null,
   "metadata": {
    "collapsed": true
   },
   "outputs": [],
   "source": []
  },
  {
   "cell_type": "markdown",
   "metadata": {},
   "source": [
    "## Regional topic strengths\n",
    "Group newspapers by region to find regional topic strengths"
   ]
  },
  {
   "cell_type": "code",
   "execution_count": 31,
   "metadata": {
    "collapsed": true
   },
   "outputs": [],
   "source": [
    "data = pd.read_csv(\"/Users/meghajain/Desktop/Metis/Projects/Final/d3/static/droughts_final.csv\", index_col=0, encoding=\"latin-1\")"
   ]
  },
  {
   "cell_type": "code",
   "execution_count": 32,
   "metadata": {
    "collapsed": true
   },
   "outputs": [],
   "source": [
    "data.loc[(data['Source'] == \"Austin American-Statesman\") | (data['Source'] == \"The Atlanta Journal-Constitution\") | (data['Source'] == \"The Tampa Bay Times\") | (data['Source'] == \"The Tampa Tribune\"), 'Region'] = \"South/Southeast\""
   ]
  },
  {
   "cell_type": "code",
   "execution_count": 33,
   "metadata": {
    "collapsed": true
   },
   "outputs": [],
   "source": [
    "data.loc[(data['Source'] == \"Chicago Tribune\") | (data['Source'] == \"The Des Moines Register\"), 'Region'] = \"Midwest\""
   ]
  },
  {
   "cell_type": "code",
   "execution_count": 34,
   "metadata": {
    "collapsed": true
   },
   "outputs": [],
   "source": [
    "data.loc[(data['Source'] == \"The Arizona Republic\") | (data['Source'] == \"The Los Angeles Times\"), 'Region'] = \"West\""
   ]
  },
  {
   "cell_type": "code",
   "execution_count": 35,
   "metadata": {
    "collapsed": true
   },
   "outputs": [],
   "source": [
    "data.loc[(data['Source'] == \"The Boston Globe\") | (data['Source'] == \"The New York Times\"), 'Region'] = \"East\""
   ]
  },
  {
   "cell_type": "code",
   "execution_count": 36,
   "metadata": {
    "collapsed": true
   },
   "outputs": [],
   "source": [
    "data.loc[(data['Source'] == \"Foxnews.com\") | (data['Source'] == \"USA Today\"), 'Region'] = \"National\""
   ]
  },
  {
   "cell_type": "code",
   "execution_count": 37,
   "metadata": {
    "collapsed": true
   },
   "outputs": [],
   "source": [
    "data['Date'] = pd.to_datetime(data['Date'])"
   ]
  },
  {
   "cell_type": "code",
   "execution_count": 38,
   "metadata": {
    "collapsed": true
   },
   "outputs": [],
   "source": [
    "data.set_index('Date', inplace=True)"
   ]
  },
  {
   "cell_type": "code",
   "execution_count": 39,
   "metadata": {
    "collapsed": false
   },
   "outputs": [],
   "source": [
    "grouped = data.groupby(by=[pd.TimeGrouper(freq ='A'), 'Region'])"
   ]
  },
  {
   "cell_type": "code",
   "execution_count": 40,
   "metadata": {
    "collapsed": false
   },
   "outputs": [],
   "source": [
    "byregion = pd.DataFrame({\"Agri\":grouped['Agriculture'].mean(), \"Climate\": grouped['Climate'].mean(), \"Fires\": grouped['Fires'].mean(), \"Landscape\": grouped['Landscape'].mean(), \"Water Use\":grouped['Water_use'].mean()}).reset_index()"
   ]
  },
  {
   "cell_type": "code",
   "execution_count": 41,
   "metadata": {
    "collapsed": true
   },
   "outputs": [],
   "source": [
    "byregion.to_csv(\"/Users/meghajain/Desktop/regions.csv\")"
   ]
  },
  {
   "cell_type": "markdown",
   "metadata": {},
   "source": [
    "## Find a source's top headlines for its strongest topic for a given year"
   ]
  },
  {
   "cell_type": "code",
   "execution_count": 43,
   "metadata": {
    "collapsed": false
   },
   "outputs": [],
   "source": [
    "sources = ['All Newspapers', 'Austin American-Statesman', 'Chicago Tribune', 'Foxnews.com', 'The Arizona Republic', 'The Atlanta Journal-Constitution', 'The Boston Globe', 'The Des Moines Register', 'The Los Angeles Times', 'The New York Times', 'The Tampa Bay Times', 'The Tampa Tribune', 'USA Today']"
   ]
  },
  {
   "cell_type": "code",
   "execution_count": 72,
   "metadata": {
    "collapsed": false
   },
   "outputs": [],
   "source": [
    "data = pd.read_csv(\"/Users/meghajain/Desktop/Metis/Projects/Final/d3/static/drought_final2.csv\", index_col=0, encoding=\"latin-1\")"
   ]
  },
  {
   "cell_type": "code",
   "execution_count": 73,
   "metadata": {
    "collapsed": false
   },
   "outputs": [],
   "source": [
    "data[\"Date\"] = pd.to_datetime(data[\"Date\"])"
   ]
  },
  {
   "cell_type": "code",
   "execution_count": 74,
   "metadata": {
    "collapsed": true
   },
   "outputs": [],
   "source": [
    "data[\"Date\"] = data[\"Date\"].apply(lambda x: x.year)"
   ]
  },
  {
   "cell_type": "code",
   "execution_count": 68,
   "metadata": {
    "collapsed": false
   },
   "outputs": [],
   "source": [
    "drought.rename(columns={\"Landscape\": \"Landscaping\", \"Fires\": \"Fires and Storms\", \"Climate\": \"Climate Change\", \"Water use\": \"Water Use\"}, inplace=True)"
   ]
  },
  {
   "cell_type": "code",
   "execution_count": 69,
   "metadata": {
    "collapsed": false
   },
   "outputs": [
    {
     "data": {
      "text/plain": [
       "Index(['Headline', 'Date', 'Source', 'Body', 'Event Type', 'Topics',\n",
       "       'Agriculture', 'Landscaping', 'Fires and Storms', 'Climate Change',\n",
       "       'Water Use'],\n",
       "      dtype='object')"
      ]
     },
     "execution_count": 69,
     "metadata": {},
     "output_type": "execute_result"
    }
   ],
   "source": [
    "drought.columns"
   ]
  },
  {
   "cell_type": "code",
   "execution_count": null,
   "metadata": {
    "collapsed": true
   },
   "outputs": [],
   "source": []
  },
  {
   "cell_type": "markdown",
   "metadata": {},
   "source": [
    "#### Create dataframes with headlines for each source"
   ]
  },
  {
   "cell_type": "code",
   "execution_count": 76,
   "metadata": {
    "collapsed": true
   },
   "outputs": [
    {
     "name": "stderr",
     "output_type": "stream",
     "text": [
      "/Users/meghajain/anaconda/lib/python3.5/site-packages/pandas/indexes/api.py:71: RuntimeWarning: unorderable types: str() < int(), sort order is undefined for incomparable objects\n",
      "  result = result.union(other)\n"
     ]
    }
   ],
   "source": [
    "for source in sources:\n",
    "    \n",
    "    ## creates a dictionary for the source with each year + strongest topic\n",
    "    data_bysource = data[data[\"Source\"] == source]\n",
    "    data_reduced = data_bysource[[\"Date\", \"Major_topic\"]]\n",
    "    topic_dict = data_reduced.set_index(\"Date\")[\"Major_topic\"].to_dict()\n",
    "    \n",
    "    first_year = list(topic_dict)[0]\n",
    "    first_topic = topic_dict[first_year]\n",
    "    \n",
    "    ## creates initial dataframe with earliest year + top 5 headlines from the strongest topic\n",
    "    headlines_df = pd.DataFrame(drought[(drought['Date'] > '01-01-'+str(first_year)) & (drought['Date'] < '12-31-'+str(first_year)) & (drought['Source'] == source)].sort_values(first_topic, ascending=False)[\"Headline\"].head(5))\n",
    "    headlines_df = headlines_df.T\n",
    "    \n",
    "    ## iterates through dictionary to append remaining years' headlines\n",
    "    for k,v in topic_dict.items():\n",
    "        df = pd.DataFrame(drought[(drought['Date'] > '01-01-'+ str(k)) & (drought['Date'] < '12-31-'+str(k)) & (drought['Source'] == \"USA Today\")].sort_values(v, ascending=False)[\"Headline\"].head(5))\n",
    "        df = df.T\n",
    "        df.rename({\"Headline\": k}, inplace=True)\n",
    "        try:\n",
    "            df.rename(columns = {df.columns[0]: \"Headline1\", df.columns[1]:\"Headline2\", df.columns[2]:\"Headline3\", df.columns[3]:\"Headline4\", df.columns[4]:\"Headline5\"}, inplace=True)\n",
    "        except:\n",
    "            pass\n",
    "        headlines_df = pd.concat(objs = [df, headlines_df])\n",
    "    \n",
    "    headlines_df.drop(labels = [\"Headline\"], inplace=True)\n",
    "    headlines_df.fillna(\"Not Available\", inplace=True)\n",
    "    headlines_df[\"Headline1\"] = headlines_df[\"Headline1\"].apply(lambda x: x.title())\n",
    "    headlines_df[\"Headline2\"] = headlines_df[\"Headline2\"].apply(lambda x: x.title())\n",
    "    headlines_df[\"Headline3\"] = headlines_df[\"Headline3\"].apply(lambda x: x.title())\n",
    "    headlines_df[\"Headline4\"] = headlines_df[\"Headline4\"].apply(lambda x: x.title())\n",
    "    headlines_df[\"Headline5\"] = headlines_df[\"Headline5\"].apply(lambda x: x.title())\n",
    "    headlines_df.reset_index(inplace=True)\n",
    "    headlines_df.sort_values('index', inplace=True)\n",
    "    \n",
    "    headlines_df.to_csv(\"/Users/meghajain/Desktop/headlines_\" + str(source) + \".csv\")"
   ]
  },
  {
   "cell_type": "code",
   "execution_count": null,
   "metadata": {
    "collapsed": true
   },
   "outputs": [],
   "source": []
  },
  {
   "cell_type": "code",
   "execution_count": null,
   "metadata": {
    "collapsed": true
   },
   "outputs": [],
   "source": []
  },
  {
   "cell_type": "code",
   "execution_count": null,
   "metadata": {
    "collapsed": true
   },
   "outputs": [],
   "source": []
  }
 ],
 "metadata": {
  "kernelspec": {
   "display_name": "Python [Root]",
   "language": "python",
   "name": "Python [Root]"
  },
  "language_info": {
   "codemirror_mode": {
    "name": "ipython",
    "version": 3
   },
   "file_extension": ".py",
   "mimetype": "text/x-python",
   "name": "python",
   "nbconvert_exporter": "python",
   "pygments_lexer": "ipython3",
   "version": "3.5.1"
  }
 },
 "nbformat": 4,
 "nbformat_minor": 0
}
